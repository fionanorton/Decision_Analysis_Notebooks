{
 "cells": [
  {
   "cell_type": "code",
<<<<<<< HEAD
   "execution_count": 1,
=======
   "execution_count": 17,
>>>>>>> a6ff61af0e2b5487239b056cae1adb1fd7971bbe
   "id": "7ffcb46e",
   "metadata": {},
   "outputs": [],
   "source": [
    "import numpy as np\n",
    "from scipy.optimize import minimize_scalar\n",
    "from scipy import stats\n",
    "# from scipy.optimize import differential_evolution"
   ]
  },
  {
   "cell_type": "code",
<<<<<<< HEAD
   "execution_count": 2,
=======
   "execution_count": 18,
>>>>>>> a6ff61af0e2b5487239b056cae1adb1fd7971bbe
   "id": "4fe61f84-07c2-46c8-b06e-c3d17f8bf1ac",
   "metadata": {},
   "outputs": [],
   "source": [
    "np.random.seed(607)"
   ]
  },
  {
   "cell_type": "code",
<<<<<<< HEAD
   "execution_count": 3,
=======
   "execution_count": 19,
>>>>>>> a6ff61af0e2b5487239b056cae1adb1fd7971bbe
   "id": "35e6cfae",
   "metadata": {},
   "outputs": [],
   "source": [
    "def modified_crra_utility(x, risk_aversion):\n",
    "    # Avoid non-positive values\n",
    "    if x < 0:\n",
    "        return float('-inf')\n",
    "    if x == 0 and risk_aversion >= 1:\n",
    "        return float('-inf')\n",
    "    if risk_aversion == 1:\n",
    "        return np.log(x)\n",
    "    else:\n",
    "        return (x**(1 - risk_aversion) - 1) / (1 - risk_aversion)\n"
   ]
  },
  {
   "cell_type": "code",
<<<<<<< HEAD
   "execution_count": 4,
=======
   "execution_count": 20,
>>>>>>> a6ff61af0e2b5487239b056cae1adb1fd7971bbe
   "id": "3e64a8ac",
   "metadata": {},
   "outputs": [],
   "source": [
    "def expected_utility(f, simulated_returns, risk_aversion):\n",
    "    # Compute the expectation of the CRRA utility\n",
    "    expectation = 0\n",
    "    count = 0\n",
    "    for random_return in simulated_returns:\n",
    "        utility = modified_crra_utility(1 + f * random_return, risk_aversion)\n",
    "        expectation += utility\n",
    "        count += 1\n",
    "    return -1 * (expectation / count)"
   ]
  },
  {
   "cell_type": "code",
<<<<<<< HEAD
   "execution_count": 5,
=======
   "execution_count": 21,
>>>>>>> a6ff61af0e2b5487239b056cae1adb1fd7971bbe
   "id": "266badee",
   "metadata": {},
   "outputs": [],
   "source": [
    "def optimize_fraction(simulated_returns, risk_aversion):\n",
    "    res = minimize_scalar(expected_utility, args=(simulated_returns, risk_aversion), method=\"golden\")\n",
    "    return res.x"
   ]
  },
  {
   "cell_type": "code",
<<<<<<< HEAD
   "execution_count": 6,
=======
   "execution_count": 22,
>>>>>>> a6ff61af0e2b5487239b056cae1adb1fd7971bbe
   "id": "8b9bf10f",
   "metadata": {},
   "outputs": [],
   "source": [
    "df, loc_t, scale_t = 3.4521298217216843, 0.008635493468786549, 0.03801716366296638\n",
    "\n",
    "n_simulations = 2000\n",
    "\n",
    "# simulated_returns = np.random.normal(mean_return,st_dev,n_simulations)  # Generate normal returns\n",
    "simulated_returns = stats.t.rvs(df, loc=loc_t, scale=scale_t, size=n_simulations)\n",
    "# simulated_returns = stats.johnsonsu.rvs(gamma, delta, xi, lambda_,n_simulations)"
   ]
  },
  {
   "cell_type": "code",
<<<<<<< HEAD
   "execution_count": 7,
=======
   "execution_count": 23,
>>>>>>> a6ff61af0e2b5487239b056cae1adb1fd7971bbe
   "id": "5f4294dc",
   "metadata": {
    "scrolled": true
   },
   "outputs": [
    {
     "name": "stdout",
     "output_type": "stream",
     "text": [
      "Optimal fraction of wealth to invest: 2.568999726007826\n"
     ]
    }
   ],
   "source": [
    "risk_aversion = 1\n",
    "optimal_fraction = optimize_fraction(simulated_returns, risk_aversion)\n",
    "print(\"Optimal fraction of wealth to invest:\", optimal_fraction)"
   ]
  },
  {
   "cell_type": "code",
<<<<<<< HEAD
   "execution_count": 13,
=======
   "execution_count": 24,
>>>>>>> a6ff61af0e2b5487239b056cae1adb1fd7971bbe
   "id": "52d4c913",
   "metadata": {},
   "outputs": [
    {
     "name": "stdout",
     "output_type": "stream",
     "text": [
      "Optimal fraction of wealth to invest: 0.7053403833495657\n"
     ]
    }
   ],
   "source": [
    "risk_aversion = 4\n",
    "optimal_fraction = optimize_fraction(simulated_returns, risk_aversion)\n",
    "print(\"Optimal fraction of wealth to invest:\", optimal_fraction)"
   ]
  },
  {
   "cell_type": "code",
<<<<<<< HEAD
   "execution_count": 18,
=======
   "execution_count": 25,
>>>>>>> a6ff61af0e2b5487239b056cae1adb1fd7971bbe
   "id": "14e8e7fa",
   "metadata": {},
   "outputs": [
    {
     "name": "stdout",
     "output_type": "stream",
     "text": [
      "Optimal fraction of wealth to invest: 3.3127791169278225\n"
     ]
    }
   ],
   "source": [
    "risk_aversion = 0.25\n",
    "optimal_fraction = optimize_fraction(simulated_returns, risk_aversion)\n",
    "print(\"Optimal fraction of wealth to invest:\", optimal_fraction)"
   ]
  },
  {
   "cell_type": "code",
   "execution_count": 26,
   "id": "5bd7969d",
   "metadata": {},
   "outputs": [
    {
     "name": "stdout",
     "output_type": "stream",
     "text": [
      "Optimal fraction of wealth to invest: 3.312780264627012\n"
     ]
    }
   ],
   "source": [
    "risk_aversion = 0\n",
    "optimal_fraction = optimize_fraction(simulated_returns, risk_aversion)\n",
    "print(\"Optimal fraction of wealth to invest:\", optimal_fraction)"
   ]
  },
  {
   "cell_type": "code",
   "execution_count": null,
   "id": "4dd31e4f",
   "metadata": {},
   "outputs": [],
   "source": []
  },
  {
   "cell_type": "code",
   "execution_count": null,
   "id": "8cdbfbaf-cc39-4c2c-bfee-51331606b33f",
   "metadata": {},
   "outputs": [],
   "source": []
  }
 ],
 "metadata": {
  "kernelspec": {
   "display_name": "Python 3 (ipykernel)",
   "language": "python",
   "name": "python3"
  },
  "language_info": {
   "codemirror_mode": {
    "name": "ipython",
    "version": 3
   },
   "file_extension": ".py",
   "mimetype": "text/x-python",
   "name": "python",
   "nbconvert_exporter": "python",
   "pygments_lexer": "ipython3",
   "version": "3.11.8"
  }
 },
 "nbformat": 4,
 "nbformat_minor": 5
}
