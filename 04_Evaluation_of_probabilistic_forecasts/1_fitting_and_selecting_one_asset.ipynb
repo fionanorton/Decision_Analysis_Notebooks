{
 "cells": [
  {
   "cell_type": "code",
   "execution_count": 1,
   "id": "f90947de-4216-4199-96f0-49e068bc2aa8",
   "metadata": {},
   "outputs": [],
   "source": [
    "import pandas as pd\n",
    "import numpy as np\n",
    "from scipy.stats import norm, t, johnsonsu\n",
    "import scipy.stats as stats\n",
    "import requests\n",
    "from io import BytesIO, StringIO\n",
    "from zipfile import ZipFile\n",
    "import properscoring as ps\n",
    "import matplotlib.pyplot as plt\n",
    "import seaborn as sns"
   ]
  },
  {
   "cell_type": "code",
   "execution_count": 2,
   "id": "1eeed586-a667-47bf-a97b-2d19e9543f87",
   "metadata": {},
   "outputs": [],
   "source": [
    "# Step 1: Download data from Ken French's website\n",
    "url = \"https://mba.tuck.dartmouth.edu/pages/faculty/ken.french/ftp/F-F_Research_Data_Factors_CSV.zip\"\n",
    "response = requests.get(url)\n",
    "\n",
    "with ZipFile(BytesIO(response.content)) as zfile:\n",
    "    with zfile.open('F-F_Research_Data_Factors.CSV') as file:\n",
    "        csv_data = pd.read_csv(file, skiprows=3, index_col=0)\n",
    "\n",
    "# Convert the data to numeric format and drop rows with missing values\n",
    "csv_data = csv_data.apply(pd.to_numeric, errors='coerce').dropna()\n",
    "\n",
    "# Keep only the monthly observations\n",
    "csv_data = csv_data[csv_data.index.map(lambda x: x.isdigit() and len(x) == 6)]\n"
   ]
  },
  {
   "cell_type": "code",
   "execution_count": 3,
   "id": "3adcd31b-556c-45b6-993d-1f4ef84e523a",
   "metadata": {},
   "outputs": [
    {
     "data": {
      "text/html": [
       "<div>\n",
       "<style scoped>\n",
       "    .dataframe tbody tr th:only-of-type {\n",
       "        vertical-align: middle;\n",
       "    }\n",
       "\n",
       "    .dataframe tbody tr th {\n",
       "        vertical-align: top;\n",
       "    }\n",
       "\n",
       "    .dataframe thead th {\n",
       "        text-align: right;\n",
       "    }\n",
       "</style>\n",
       "<table border=\"1\" class=\"dataframe\">\n",
       "  <thead>\n",
       "    <tr style=\"text-align: right;\">\n",
       "      <th></th>\n",
       "      <th>Mkt-RF</th>\n",
       "      <th>SMB</th>\n",
       "      <th>HML</th>\n",
       "      <th>RF</th>\n",
       "    </tr>\n",
       "  </thead>\n",
       "  <tbody>\n",
       "    <tr>\n",
       "      <th>192607</th>\n",
       "      <td>2.96</td>\n",
       "      <td>-2.56</td>\n",
       "      <td>-2.43</td>\n",
       "      <td>0.22</td>\n",
       "    </tr>\n",
       "    <tr>\n",
       "      <th>192608</th>\n",
       "      <td>2.64</td>\n",
       "      <td>-1.17</td>\n",
       "      <td>3.82</td>\n",
       "      <td>0.25</td>\n",
       "    </tr>\n",
       "    <tr>\n",
       "      <th>192609</th>\n",
       "      <td>0.36</td>\n",
       "      <td>-1.40</td>\n",
       "      <td>0.13</td>\n",
       "      <td>0.23</td>\n",
       "    </tr>\n",
       "    <tr>\n",
       "      <th>192610</th>\n",
       "      <td>-3.24</td>\n",
       "      <td>-0.09</td>\n",
       "      <td>0.70</td>\n",
       "      <td>0.32</td>\n",
       "    </tr>\n",
       "    <tr>\n",
       "      <th>192611</th>\n",
       "      <td>2.53</td>\n",
       "      <td>-0.10</td>\n",
       "      <td>-0.51</td>\n",
       "      <td>0.31</td>\n",
       "    </tr>\n",
       "    <tr>\n",
       "      <th>192612</th>\n",
       "      <td>2.62</td>\n",
       "      <td>-0.03</td>\n",
       "      <td>-0.05</td>\n",
       "      <td>0.28</td>\n",
       "    </tr>\n",
       "    <tr>\n",
       "      <th>192701</th>\n",
       "      <td>-0.06</td>\n",
       "      <td>-0.37</td>\n",
       "      <td>4.54</td>\n",
       "      <td>0.25</td>\n",
       "    </tr>\n",
       "    <tr>\n",
       "      <th>192702</th>\n",
       "      <td>4.18</td>\n",
       "      <td>0.04</td>\n",
       "      <td>2.94</td>\n",
       "      <td>0.26</td>\n",
       "    </tr>\n",
       "    <tr>\n",
       "      <th>192703</th>\n",
       "      <td>0.13</td>\n",
       "      <td>-1.65</td>\n",
       "      <td>-2.61</td>\n",
       "      <td>0.30</td>\n",
       "    </tr>\n",
       "    <tr>\n",
       "      <th>192704</th>\n",
       "      <td>0.46</td>\n",
       "      <td>0.30</td>\n",
       "      <td>0.81</td>\n",
       "      <td>0.25</td>\n",
       "    </tr>\n",
       "  </tbody>\n",
       "</table>\n",
       "</div>"
      ],
      "text/plain": [
       "        Mkt-RF   SMB   HML    RF\n",
       "192607    2.96 -2.56 -2.43  0.22\n",
       "192608    2.64 -1.17  3.82  0.25\n",
       "192609    0.36 -1.40  0.13  0.23\n",
       "192610   -3.24 -0.09  0.70  0.32\n",
       "192611    2.53 -0.10 -0.51  0.31\n",
       "192612    2.62 -0.03 -0.05  0.28\n",
       "192701   -0.06 -0.37  4.54  0.25\n",
       "192702    4.18  0.04  2.94  0.26\n",
       "192703    0.13 -1.65 -2.61  0.30\n",
       "192704    0.46  0.30  0.81  0.25"
      ]
     },
     "execution_count": 3,
     "metadata": {},
     "output_type": "execute_result"
    }
   ],
   "source": [
    "csv_data.head(10)"
   ]
  },
  {
   "cell_type": "code",
   "execution_count": 4,
   "id": "624a1952-dc24-4327-9cc8-05daab61dfc5",
   "metadata": {},
   "outputs": [
    {
     "data": {
      "text/html": [
       "<div>\n",
       "<style scoped>\n",
       "    .dataframe tbody tr th:only-of-type {\n",
       "        vertical-align: middle;\n",
       "    }\n",
       "\n",
       "    .dataframe tbody tr th {\n",
       "        vertical-align: top;\n",
       "    }\n",
       "\n",
       "    .dataframe thead th {\n",
       "        text-align: right;\n",
       "    }\n",
       "</style>\n",
       "<table border=\"1\" class=\"dataframe\">\n",
       "  <thead>\n",
       "    <tr style=\"text-align: right;\">\n",
       "      <th></th>\n",
       "      <th>Mkt-RF</th>\n",
       "      <th>SMB</th>\n",
       "      <th>HML</th>\n",
       "      <th>RF</th>\n",
       "    </tr>\n",
       "  </thead>\n",
       "  <tbody>\n",
       "    <tr>\n",
       "      <th>202305</th>\n",
       "      <td>0.35</td>\n",
       "      <td>1.61</td>\n",
       "      <td>-7.72</td>\n",
       "      <td>0.36</td>\n",
       "    </tr>\n",
       "    <tr>\n",
       "      <th>202306</th>\n",
       "      <td>6.46</td>\n",
       "      <td>1.54</td>\n",
       "      <td>-0.26</td>\n",
       "      <td>0.40</td>\n",
       "    </tr>\n",
       "    <tr>\n",
       "      <th>202307</th>\n",
       "      <td>3.21</td>\n",
       "      <td>2.08</td>\n",
       "      <td>4.11</td>\n",
       "      <td>0.45</td>\n",
       "    </tr>\n",
       "    <tr>\n",
       "      <th>202308</th>\n",
       "      <td>-2.39</td>\n",
       "      <td>-3.16</td>\n",
       "      <td>-1.06</td>\n",
       "      <td>0.45</td>\n",
       "    </tr>\n",
       "    <tr>\n",
       "      <th>202309</th>\n",
       "      <td>-5.24</td>\n",
       "      <td>-2.51</td>\n",
       "      <td>1.52</td>\n",
       "      <td>0.43</td>\n",
       "    </tr>\n",
       "    <tr>\n",
       "      <th>202310</th>\n",
       "      <td>-3.19</td>\n",
       "      <td>-3.87</td>\n",
       "      <td>0.19</td>\n",
       "      <td>0.47</td>\n",
       "    </tr>\n",
       "    <tr>\n",
       "      <th>202311</th>\n",
       "      <td>8.84</td>\n",
       "      <td>-0.02</td>\n",
       "      <td>1.64</td>\n",
       "      <td>0.44</td>\n",
       "    </tr>\n",
       "    <tr>\n",
       "      <th>202312</th>\n",
       "      <td>4.87</td>\n",
       "      <td>6.34</td>\n",
       "      <td>4.93</td>\n",
       "      <td>0.43</td>\n",
       "    </tr>\n",
       "    <tr>\n",
       "      <th>202401</th>\n",
       "      <td>0.71</td>\n",
       "      <td>-5.09</td>\n",
       "      <td>-2.38</td>\n",
       "      <td>0.47</td>\n",
       "    </tr>\n",
       "    <tr>\n",
       "      <th>202402</th>\n",
       "      <td>5.06</td>\n",
       "      <td>-0.24</td>\n",
       "      <td>-3.48</td>\n",
       "      <td>0.42</td>\n",
       "    </tr>\n",
       "  </tbody>\n",
       "</table>\n",
       "</div>"
      ],
      "text/plain": [
       "        Mkt-RF   SMB   HML    RF\n",
       "202305    0.35  1.61 -7.72  0.36\n",
       "202306    6.46  1.54 -0.26  0.40\n",
       "202307    3.21  2.08  4.11  0.45\n",
       "202308   -2.39 -3.16 -1.06  0.45\n",
       "202309   -5.24 -2.51  1.52  0.43\n",
       "202310   -3.19 -3.87  0.19  0.47\n",
       "202311    8.84 -0.02  1.64  0.44\n",
       "202312    4.87  6.34  4.93  0.43\n",
       "202401    0.71 -5.09 -2.38  0.47\n",
       "202402    5.06 -0.24 -3.48  0.42"
      ]
     },
     "execution_count": 4,
     "metadata": {},
     "output_type": "execute_result"
    }
   ],
   "source": [
    "csv_data.tail(10)"
   ]
  },
  {
   "cell_type": "code",
   "execution_count": 37,
   "id": "9e05fa45-7da3-4fe5-b2cb-c55e551e3509",
   "metadata": {},
   "outputs": [],
   "source": [
    "# Step 2: Compute m\n",
    "csv_data['m'] = (csv_data['Mkt-RF']/100) / (1 + csv_data['RF']/100)\n",
    "\n",
    "# Step 3: Split data into folds\n",
    "fold1 = csv_data.loc['192607':'198312']\n",
    "fold2 = csv_data.loc['198301':'201212']\n",
    "fold3 = csv_data.loc['201301':'201812']\n",
    "fold4 = csv_data.loc['201901':]"
   ]
  },
  {
   "cell_type": "code",
   "execution_count": 52,
   "id": "ea5608b6-a0ae-4744-a028-46a439316ca3",
   "metadata": {},
   "outputs": [
    {
     "data": {
      "text/plain": [
       "(690, 360)"
      ]
     },
     "execution_count": 52,
     "metadata": {},
     "output_type": "execute_result"
    }
   ],
   "source": [
    "len(fold1), len(fold2)"
   ]
  },
  {
   "cell_type": "code",
   "execution_count": 38,
   "id": "7fb207b2-a751-4b5d-9eab-9819e93a3ab8",
   "metadata": {},
   "outputs": [],
   "source": [
    "# Step 4: Fit models to fold1\n",
    "m1 = fold1['m']\n",
    "params_normal = norm.fit(m1)\n",
    "params_t = t.fit(m1)\n",
    "params_johnsonsu = johnsonsu.fit(m1)"
   ]
  },
  {
   "cell_type": "code",
   "execution_count": 39,
   "id": "9c09bb0f-f201-4b92-8bb5-fa6ee5ae3ea4",
   "metadata": {},
   "outputs": [
    {
     "data": {
      "image/png": "[encoded data removed]",
      "text/plain": [
       "<Figure size 640x480 with 1 Axes>"
      ]
     },
     "metadata": {},
     "output_type": "display_data"
    }
   ],
   "source": [
    "sns.histplot(m1, kde=False)  # Set kde to True if you also want a kernel density estimate overlay\n",
    "\n",
    "plt.title('Histogram of m1')\n",
    "plt.xlabel('Values of m1')\n",
    "plt.ylabel('Frequency')\n",
    "\n",
    "plt.show()"
   ]
  },
  {
   "cell_type": "code",
   "execution_count": 40,
   "id": "bae2ec57-dabe-4a7d-b681-903c68f47705",
   "metadata": {},
   "outputs": [
    {
     "data": {
      "image/png": "[encoded data removed]",
      "text/plain": [
       "<Figure size 640x480 with 1 Axes>"
      ]
     },
     "metadata": {},
     "output_type": "display_data"
    }
   ],
   "source": [
    "import warnings\n",
    "warnings.filterwarnings(\"ignore\")\n",
    "# Create the histogram using Seaborn\n",
    "sns.histplot(m1, kde=False, color=\"gray\", stat=\"density\")  # Use stat=\"density\" to normalize histogram\n",
    "\n",
    "# Plot the fitted normal distribution\n",
    "xmin, xmax = plt.xlim()\n",
    "x = np.linspace(xmin, xmax, 100)\n",
    "p_normal = stats.norm.pdf(x, *params_normal)\n",
    "plt.plot(x, p_normal, 'k', linewidth=2, label='Normal')\n",
    "\n",
    "# Plot the fitted t distribution\n",
    "p_t = stats.t.pdf(x, *params_t)\n",
    "plt.plot(x, p_t, 'b', linewidth=2, label=\"Student's t\")\n",
    "\n",
    "# Plot the fitted Johnson's SU distribution\n",
    "p_johnsonsu = stats.johnsonsu.pdf(x, *params_johnsonsu)\n",
    "plt.plot(x, p_johnsonsu, 'r', linewidth=2, label=\"Johnson's SU\")\n",
    "\n",
    "plt.title('Histogram of m1 with Fitted Distributions')\n",
    "plt.xlabel('Values of m1')\n",
    "plt.ylabel('Density')\n",
    "plt.legend()\n",
    "\n",
    "plt.show()"
   ]
  },
  {
   "cell_type": "code",
   "execution_count": 41,
   "id": "d88f4746-5b56-46f4-8335-d472e717a664",
   "metadata": {},
   "outputs": [],
   "source": [
    "# Step 5: Select among the three models using CRPS on fold2\n",
    "m2 = fold2['m']\n",
    "\n",
    "crps_normal = np.mean(ps.crps_ensemble(m2, norm.rvs(*params_normal, size=len(m2))))\n",
    "crps_t = np.mean(ps.crps_ensemble(m2, t.rvs(*params_t, size=len(m2))))\n",
    "crps_johnsonsu = np.mean(ps.crps_ensemble(m2, johnsonsu.rvs(*params_johnsonsu, size=len(m2))))"
   ]
  },
  {
   "cell_type": "code",
   "execution_count": 47,
   "id": "3514bbf0-24ce-4a00-88a9-cbf31ae6cbb1",
   "metadata": {},
   "outputs": [
    {
     "name": "stdout",
     "output_type": "stream",
     "text": [
      "Best model: Student t\n",
      "Fitted parameters: (3.4521298217216843, 0.008635493468786549, 0.03801716366296638)\n"
     ]
    }
   ],
   "source": [
    "# Step 6: Report the best model and the fitted parameters\n",
    "best_model = min([(crps_normal, 'Normal', params_normal),\n",
    "                  (crps_t, 'Student t', params_t),\n",
    "                  (crps_johnsonsu, 'Johnson Su', params_johnsonsu)], key=lambda x: x[0])\n",
    "\n",
    "print(f\"Best model: {best_model[1]}\")\n",
    "print(f\"Fitted parameters: {best_model[2]}\")"
   ]
  },
  {
   "cell_type": "code",
   "execution_count": 48,
   "id": "e67514b1-cadc-46b2-8184-43effb82bb36",
   "metadata": {},
   "outputs": [],
   "source": [
    "# Step 7: Compute PIT values for the chosen model on fold 2\n",
    "if best_model[1] == 'Normal':\n",
    "    cdf_values = norm.cdf(m2, *params_normal)\n",
    "elif best_model[1] == 'Student t':\n",
    "    cdf_values = t.cdf(m2, *params_t)\n",
    "elif best_model[1] == 'Johnson Su':\n",
    "    cdf_values = johnsonsu.cdf(m2, *params_johnsonsu)"
   ]
  },
  {
   "cell_type": "code",
   "execution_count": 49,
   "id": "fef7a8c9-780f-48f8-a66b-1894afed7725",
   "metadata": {},
   "outputs": [
    {
     "data": {
      "image/png": "[encoded data removed]",
      "text/plain": [
       "<Figure size 400x400 with 1 Axes>"
      ]
     },
     "metadata": {},
     "output_type": "display_data"
    }
   ],
   "source": [
    "# Step 8: Plot PIT values\n",
    "plt.figure(figsize=(4, 4))\n",
    "\n",
    "sns.histplot(cdf_values, bins=20, cumulative=True, alpha=0.75)\n",
    "sns.histplot(cdf_values, bins=20, color='red', alpha=0.75)\n",
    "plt.title('PDF and CDF for PIT Values of the Chosen Model')\n",
    "\n",
    "plt.show()"
   ]
  }
 ],
 "metadata": {
  "kernelspec": {
   "display_name": "Python 3 (ipykernel)",
   "language": "python",
   "name": "python3"
  },
  "language_info": {
   "codemirror_mode": {
    "name": "ipython",
    "version": 3
   },
   "file_extension": ".py",
   "mimetype": "text/x-python",
   "name": "python",
   "nbconvert_exporter": "python",
   "pygments_lexer": "ipython3",
   "version": "3.11.8"
  }
 },
 "nbformat": 4,
 "nbformat_minor": 5
}
