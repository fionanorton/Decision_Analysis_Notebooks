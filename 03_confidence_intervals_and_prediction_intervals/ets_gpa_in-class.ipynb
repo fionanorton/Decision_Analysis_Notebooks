{
 "cells": [
  {
   "cell_type": "code",
   "execution_count": 1,
   "id": "469cd2aa",
   "metadata": {},
   "outputs": [],
   "source": [
    "import pandas as pd\n",
    "import statsmodels.api as sm\n",
    "import numpy as np\n",
    "from scipy.stats import norm"
   ]
  },
  {
   "cell_type": "code",
   "execution_count": 2,
   "id": "23b83f42",
   "metadata": {},
   "outputs": [],
   "source": [
    "# Read the CSV file\n",
    "data = pd.read_csv('data_in_class_three.csv')\n",
    "\n",
    "# Define the dependent variable (ETS_scaled_score) and independent variable (ECON_GPA)\n",
    "dependent_var = data['ETS_scaled_score']\n",
    "independent_var = data['ECON_GPA']\n",
    "\n",
    "# Add a constant term to the independent variable\n",
    "independent_var_with_constant = sm.add_constant(independent_var)"
   ]
  },
  {
   "cell_type": "code",
   "execution_count": 3,
   "id": "1f7fc9fe",
   "metadata": {},
   "outputs": [],
   "source": [
    "# Run the OLS regression\n",
    "model = sm.OLS(dependent_var, independent_var_with_constant)\n",
    "results = model.fit()\n",
    "\n"
   ]
  },
  {
   "cell_type": "code",
   "execution_count": 4,
   "id": "4c5fa78f",
   "metadata": {},
   "outputs": [],
   "source": [
    "# Set the value of ECON_GPA\n",
    "econ_gpa = 3.4\n",
    "\n",
    "# Create an array with the constant term and the ECON_GPA value\n",
    "econ_gpa_with_constant = np.array([1, econ_gpa])\n",
    "\n",
    "# Calculate the expected value of ETS_scaled_score conditional on ECON_GPA\n",
    "expected_value = results.predict(econ_gpa_with_constant)\n",
    "\n",
    "# Compute the 95% confidence interval for the expected value\n",
    "confidence_interval = results.get_prediction(econ_gpa_with_constant).conf_int(alpha=0.05)\n",
    "\n",
    "# Compute the 95% prediction interval for the value of ETS_scaled_score conditional on ECON_GPA being 3.4\n",
    "prediction_interval = results.get_prediction(econ_gpa_with_constant).conf_int(alpha=0.05, obs=True)\n",
    "\n",
    "# Calculate the expected value and standard error for ETS_scaled_score when ECON_GPA = 3.4\n",
    "mean = expected_value[0]\n",
    "std_error = results.get_prediction(econ_gpa_with_constant).se_obs[0]\n"
   ]
  },
  {
   "cell_type": "code",
   "execution_count": 5,
   "id": "c38bef90",
   "metadata": {},
   "outputs": [
    {
     "name": "stdout",
     "output_type": "stream",
     "text": [
      "Probability that a student with an ECON_GPA of 3.4 will have an ETS_scaled_score of 157 or higher: 0.6816987741852465\n",
      "Probability that a student with an ECON_GPA of 3.4 will have an ETS_scaled_score of 169 or higher: 0.3039880016194577\n"
     ]
    }
   ],
   "source": [
    "def probability_ets_target(ets_target):\n",
    "    # Calculate the z-score\n",
    "    z_score = (ets_target - mean) / std_error\n",
    "\n",
    "    # Calculate the probability using the cumulative distribution function (CDF) of the normal distribution\n",
    "    probability = 1 - norm.cdf(z_score)\n",
    "    \n",
    "    return probability\n",
    "\n",
    "# Define the target ETS_scaled_score values\n",
    "ets_target_157 = 157\n",
    "ets_target_169 = 169\n",
    "\n",
    "# Calculate the probabilities\n",
    "probability_157 = probability_ets_target(ets_target_157)\n",
    "probability_169 = probability_ets_target(ets_target_169)\n",
    "\n",
    "# Print the probabilities\n",
    "print(f\"Probability that a student with an ECON_GPA of {econ_gpa} will have an ETS_scaled_score of {ets_target_157} or higher: {probability_157}\")\n",
    "print(f\"Probability that a student with an ECON_GPA of {econ_gpa} will have an ETS_scaled_score of {ets_target_169} or higher: {probability_169}\")"
   ]
  },
  {
   "cell_type": "code",
   "execution_count": 6,
   "id": "14ad610e",
   "metadata": {},
   "outputs": [
    {
     "data": {
      "text/plain": [
       "array([[138.77239279, 186.73429099]])"
      ]
     },
     "execution_count": 6,
     "metadata": {},
     "output_type": "execute_result"
    }
   ],
   "source": [
    "prediction_interval"
   ]
  },
  {
   "cell_type": "code",
   "execution_count": 7,
   "id": "ac6c8043",
   "metadata": {},
   "outputs": [
    {
     "data": {
      "text/plain": [
       "array([[160.82901046, 164.67767332]])"
      ]
     },
     "execution_count": 7,
     "metadata": {},
     "output_type": "execute_result"
    }
   ],
   "source": [
    "confidence_interval"
   ]
  },
  {
   "cell_type": "code",
   "execution_count": 8,
   "id": "d5046b04",
   "metadata": {},
   "outputs": [
    {
     "data": {
      "text/plain": [
       "array([162.75334189])"
      ]
     },
     "execution_count": 8,
     "metadata": {},
     "output_type": "execute_result"
    }
   ],
   "source": [
    "expected_value"
   ]
  },
  {
   "cell_type": "code",
   "execution_count": null,
   "id": "2f82ee55",
   "metadata": {},
   "outputs": [],
   "source": []
  },
  {
   "cell_type": "code",
   "execution_count": null,
   "id": "de51dd5a-7f15-45cc-86e8-74e5d717c791",
   "metadata": {},
   "outputs": [],
   "source": []
  }
 ],
 "metadata": {
  "kernelspec": {
   "display_name": "Python 3 (ipykernel)",
   "language": "python",
   "name": "python3"
  },
  "language_info": {
   "codemirror_mode": {
    "name": "ipython",
    "version": 3
   },
   "file_extension": ".py",
   "mimetype": "text/x-python",
   "name": "python",
   "nbconvert_exporter": "python",
   "pygments_lexer": "ipython3",
   "version": "3.12.2"
  }
 },
 "nbformat": 4,
 "nbformat_minor": 5
}
