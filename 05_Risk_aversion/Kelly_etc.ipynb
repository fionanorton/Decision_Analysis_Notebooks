{
 "cells": [
  {
   "cell_type": "code",
   "execution_count": 1,
   "id": "51636dd6",
   "metadata": {},
   "outputs": [],
   "source": [
    "import pandas as pd\n",
    "import numpy as np\n",
    "from scipy.optimize import minimize_scalar, minimize\n",
    "import math"
   ]
  },
  {
   "cell_type": "markdown",
   "id": "a2c16d4b",
   "metadata": {},
   "source": [
    "# The Kelly Criterion"
   ]
  },
  {
   "cell_type": "code",
   "execution_count": 2,
   "id": "f08b6c2c",
   "metadata": {},
   "outputs": [],
   "source": [
    "def expected_log_growth_rate(f, p, x1, x2):\n",
    "    \"\"\"\n",
    "    Compute the expected logarithmic growth rate given a fraction f invested in a risky asset.\n",
    "\n",
    "    :param f: Fraction of wealth invested in the risky asset\n",
    "    :param p: Probability that the asset pays x1 for every dollar wagered\n",
    "    :param x1: Payoff for every dollar wagered with probability p\n",
    "    :param x2: Payoff for every dollar wagered with probability (1-p)\n",
    "    :return: Expected logarithmic growth rate\n",
    "    \"\"\"\n",
    "    return p * np.log(1 + f * (x1 - 1)) + (1 - p) * np.log(1 + f * (x2 - 1))"
   ]
  },
  {
   "cell_type": "code",
   "execution_count": 3,
   "id": "18d00e55",
   "metadata": {},
   "outputs": [
    {
     "name": "stdout",
     "output_type": "stream",
     "text": [
      "   Fraction  Expected Logarithmic Growth Rate\n",
      "0      0.02                          0.010528\n",
      "1      0.15                          0.058669\n",
      "2      0.50                          0.047655\n",
      "3      1.00                         -0.601986\n"
     ]
    }
   ],
   "source": [
    "# Example usage\n",
    "p = 0.5  # Probability that the asset pays x1 for every dollar wagered\n",
    "x1 = 3  # Payoff for every dollar wagered with probability p\n",
    "x2 = .1 # Payoff for every dollar wagered with probability (1-p)\n",
    "\n",
    "# Investment fractions to evaluate\n",
    "fractions = [0.02, 0.15, 0.5, 1]\n",
    "\n",
    "# Compute the expected logarithmic growth rates for each fraction\n",
    "growth_rates = [expected_log_growth_rate(f, p, x1, x2) for f in fractions]\n",
    "\n",
    "# Create a pandas DataFrame to display the results in a table\n",
    "data = {'Fraction': fractions, 'Expected Logarithmic Growth Rate': growth_rates}\n",
    "table = pd.DataFrame(data)\n",
    "\n",
    "# Display the table\n",
    "print(table)"
   ]
  },
  {
   "cell_type": "code",
   "execution_count": 4,
   "id": "fbe8f21f",
   "metadata": {},
   "outputs": [],
   "source": [
    "def find_optimal_fraction(p, x1, x2):\n",
    "    \"\"\"\n",
    "    Find the optimal fraction of wealth to invest in a risky asset using an optimization package.\n",
    "\n",
    "\n",
    "    :param p: Probability that the asset pays x1 for every dollar wagered\n",
    "    :param x1: Payoff for every dollar wagered with probability p\n",
    "    :param x2: Payoff for every dollar wagered with probability (1-p)\n",
    "    :return: Optimal fraction of wealth to invest in the risky asset\n",
    "    \"\"\"\n",
    "    result = minimize_scalar(lambda f: -expected_log_growth_rate(f, p, x1, x2), bounds=(0, 1), method='bounded')\n",
    "    return result.x"
   ]
  },
  {
   "cell_type": "code",
   "execution_count": 5,
   "id": "4cb57dcb",
   "metadata": {},
   "outputs": [
    {
     "name": "stdout",
     "output_type": "stream",
     "text": [
      "Optimal fraction of wealth to invest in the risky asset: 0.3056\n",
      "Optimal expected logarithmic growth rate: 0.0777\n"
     ]
    }
   ],
   "source": [
    "# Solve the example\n",
    "optimal_fraction = find_optimal_fraction(p, x1, x2)\n",
    "print(f\"Optimal fraction of wealth to invest in the risky asset: {optimal_fraction:.4f}\")\n",
    "print(f\"Optimal expected logarithmic growth rate: {expected_log_growth_rate(optimal_fraction, p, x1, x2):.4f}\")"
   ]
  },
  {
   "cell_type": "markdown",
   "id": "a11373be",
   "metadata": {},
   "source": [
    "# Some Mathematics of Gambling"
   ]
  },
  {
   "cell_type": "code",
   "execution_count": 6,
   "id": "6f227742",
   "metadata": {},
   "outputs": [],
   "source": [
    "def find_optimal_fraction_hot_cold(p_hot, p_cold, x1_win, x1_lose, x2_win, x2_lose):\n",
    "    \"\"\"\n",
    "    Find the optimal betting fraction for each state (hot and cold) based on the information held by the bettor.\n",
    "\n",
    "    :param p_hot: Probability of winning when the deck is hot\n",
    "    :param p_cold: Probability of winning when the deck is cold\n",
    "    :param x1_win: Payoff when the deck is hot and the bettor wins (double the amount invested)\n",
    "    :param x1_lose: Payoff when the deck is hot and the bettor loses (completely lose the amount invested)\n",
    "    :param x2_win: Payoff when the deck is cold and the bettor wins (double the amount invested)\n",
    "    :param x2_lose: Payoff when the deck is cold and the bettor loses (completely lose the amount invested)\n",
    "    :return: Tuple containing the optimal betting fraction for hot and cold states\n",
    "    \"\"\"\n",
    "    optimal_fraction_hot = find_optimal_fraction(p_hot, x1_win, x1_lose)\n",
    "    optimal_fraction_cold = find_optimal_fraction(p_cold, x2_win, x2_lose)\n",
    "    return (optimal_fraction_hot, optimal_fraction_cold)"
   ]
  },
  {
   "cell_type": "code",
   "execution_count": 7,
   "id": "e5442208",
   "metadata": {},
   "outputs": [
    {
     "name": "stdout",
     "output_type": "stream",
     "text": [
      "Optimal betting fraction when the deck is hot: 0.0400\n",
      "Optimal betting fraction when the deck is cold: 0.0000\n"
     ]
    }
   ],
   "source": [
    "# Example usage\n",
    "p_hot = 0.52\n",
    "p_cold = 0.48\n",
    "x1_win = 2  # Double the amount invested when the deck is hot and the bettor wins\n",
    "x1_lose = 0  # Completely lose the amount invested when the deck is hot and the bettor loses\n",
    "x2_win = 2  # Double the amount invested when the deck is cold and the bettor wins\n",
    "x2_lose = 0  # Completely lose the amount invested when the deck is cold and the bettor loses\n",
    "\n",
    "optimal_fractions = find_optimal_fraction_hot_cold(p_hot, p_cold, x1_win, x1_lose, x2_win, x2_lose)\n",
    "print(f\"Optimal betting fraction when the deck is hot: {optimal_fractions[0]:.4f}\")\n",
    "print(f\"Optimal betting fraction when the deck is cold: {optimal_fractions[1]:.4f}\")"
   ]
  },
  {
   "cell_type": "code",
   "execution_count": 8,
   "id": "fecd14ca",
   "metadata": {},
   "outputs": [],
   "source": [
    "def find_optimal_fraction_hot_cold_constrained(p_hot, p_cold, x1_win, x1_lose, x2_win, x2_lose):\n",
    "    \"\"\"\n",
    "    Find the optimal betting fraction for each state (hot and cold) with the constraint that the fraction bet\n",
    "    when the deck is hot is three times larger than the fraction bet when the deck is cold.\n",
    "\n",
    "    :param p_hot: Probability that the deck is hot\n",
    "    :param p_cold: Probability that the deck is cold\n",
    "    :param x1_win: Payoff when the deck is hot and the bettor wins (double the amount invested)\n",
    "    :param x1_lose: Payoff when the deck is hot and the bettor loses (completely lose the amount invested)\n",
    "    :param x2_win: Payoff when the deck is cold and the bettor wins (double the amount invested)\n",
    "    :param x2_lose: Payoff when the deck is cold and the bettor loses (completely lose the amount invested)\n",
    "    :return: Tuple containing the optimal betting fraction for hot and cold states\n",
    "    \"\"\"\n",
    "    def objective_function(fractions):\n",
    "        f_hot, f_cold = fractions\n",
    "        return -(0.5 * expected_log_growth_rate(f_hot, p_hot, x1_win, x1_lose) +\n",
    "                 0.5 * expected_log_growth_rate(f_cold, p_cold, x2_win, x2_lose))\n",
    "\n",
    "    def constraint(fractions):\n",
    "        f_hot, f_cold = fractions\n",
    "        return f_hot - 3 * f_cold\n",
    "\n",
    "    constraints = {'type': 'eq', 'fun': constraint}\n",
    "    initial_guess = [0.1, 0.1]\n",
    "    bounds = [(0, 1), (0, 1)]\n",
    "\n",
    "    result = minimize(objective_function, initial_guess, bounds=bounds, constraints=constraints)\n",
    "\n",
    "    return result.x"
   ]
  },
  {
   "cell_type": "code",
   "execution_count": 9,
   "id": "d3e9487e",
   "metadata": {},
   "outputs": [
    {
     "name": "stdout",
     "output_type": "stream",
     "text": [
      "Optimal betting fraction when the deck is hot (with constraint): 0.0241\n",
      "Optimal betting fraction when the deck is cold (with constraint): 0.0080\n"
     ]
    }
   ],
   "source": [
    "# Example usage\n",
    "optimal_fractions_constrained = find_optimal_fraction_hot_cold_constrained(p_hot, p_cold, x1_win, x1_lose, x2_win, x2_lose)\n",
    "print(f\"Optimal betting fraction when the deck is hot (with constraint): {optimal_fractions_constrained[0]:.4f}\")\n",
    "print(f\"Optimal betting fraction when the deck is cold (with constraint): {optimal_fractions_constrained[1]:.4f}\")"
   ]
  },
  {
   "cell_type": "code",
   "execution_count": 10,
   "id": "41a69c05",
   "metadata": {},
   "outputs": [],
   "source": [
    "def compare_growth_rates(optimal_fractions_unconstrained, optimal_fractions_constrained, p_hot, p_cold, x1_win, x1_lose, x2_win, x2_lose):\n",
    "    \"\"\"\n",
    "    Compare the expected logarithmic growth rates for both the unconstrained and constrained cases.\n",
    "\n",
    "    :param optimal_fractions_unconstrained: Tuple containing the optimal betting fraction for hot and cold states (unconstrained)\n",
    "    :param optimal_fractions_constrained: Tuple containing the optimal betting fraction for hot and cold states (constrained)\n",
    "    :param p_hot: Probability that the deck is hot\n",
    "    :param p_cold: Probability that the deck is cold\n",
    "    :param x1_win: Payoff when the deck is hot and the bettor wins (double the amount invested)\n",
    "    :param x1_lose: Payoff when the deck is hot and the bettor loses (completely lose the amount invested)\n",
    "    :param x2_win: Payoff when the deck is cold and the bettor wins (double the amount invested)\n",
    "    :param x2_lose: Payoff when the deck is cold and the bettor loses (completely lose the amount invested)\n",
    "    :return: None\n",
    "    \"\"\"\n",
    "    f_hot_unconstrained, f_cold_unconstrained = optimal_fractions_unconstrained\n",
    "    f_hot_constrained, f_cold_constrained = optimal_fractions_constrained\n",
    "\n",
    "    growth_rate_unconstrained_hot = expected_log_growth_rate(f_hot_unconstrained, p_hot, x1_win, x1_lose) * 100\n",
    "    growth_rate_unconstrained_cold = expected_log_growth_rate(f_cold_unconstrained, p_cold, x2_win, x2_lose) * 100\n",
    "    growth_rate_unconstrained = 0.5 * (growth_rate_unconstrained_hot + growth_rate_unconstrained_cold)\n",
    "\n",
    "    growth_rate_constrained_hot = expected_log_growth_rate(f_hot_constrained, p_hot, x1_win, x1_lose) * 100\n",
    "    growth_rate_constrained_cold = expected_log_growth_rate(f_cold_constrained, p_cold, x2_win, x2_lose) * 100\n",
    "    growth_rate_constrained = 0.5 * (growth_rate_constrained_hot + growth_rate_constrained_cold)\n",
    "\n",
    "    print(\"Unconstrained case:\")\n",
    "    print(f\"Optimal betting fractions - Hot: {f_hot_unconstrained * 100:.2f}%, Cold: {f_cold_unconstrained * 100:.2f}%\")\n",
    "    print(f\"Expected logarithmic growth rate when the deck is hot: {growth_rate_unconstrained_hot:.2f}%\")\n",
    "    print(f\"Expected logarithmic growth rate when the deck is cold: {growth_rate_unconstrained_cold:.2f}%\")\n",
    "    print(f\"Overall expected logarithmic growth rate: {growth_rate_unconstrained:.2f}%\\n\")\n",
    "\n",
    "    print(\"Constrained case:\")\n",
    "    print(f\"Optimal betting fractions - Hot: {f_hot_constrained * 100:.2f}%, Cold: {f_cold_constrained * 100:.2f}%\")\n",
    "    print(f\"Expected logarithmic growth rate when the deck is hot: {growth_rate_constrained_hot:.2f}%\")\n",
    "    print(f\"Expected logarithmic growth rate when the deck is cold: {growth_rate_constrained_cold:.2f}%\")\n",
    "    print(f\"Overall expected logarithmic growth rate: {growth_rate_constrained:.2f}%\")"
   ]
  },
  {
   "cell_type": "code",
   "execution_count": 11,
   "id": "402baf0d",
   "metadata": {},
   "outputs": [
    {
     "name": "stdout",
     "output_type": "stream",
     "text": [
      "Unconstrained case:\n",
      "Optimal betting fractions - Hot: 4.00%, Cold: 0.00%\n",
      "Expected logarithmic growth rate when the deck is hot: 0.08%\n",
      "Expected logarithmic growth rate when the deck is cold: -0.00%\n",
      "Overall expected logarithmic growth rate: 0.04%\n",
      "\n",
      "Constrained case:\n",
      "Optimal betting fractions - Hot: 2.41%, Cold: 0.80%\n",
      "Expected logarithmic growth rate when the deck is hot: 0.07%\n",
      "Expected logarithmic growth rate when the deck is cold: -0.04%\n",
      "Overall expected logarithmic growth rate: 0.02%\n"
     ]
    }
   ],
   "source": [
    "# Example\n",
    "compare_growth_rates(optimal_fractions, optimal_fractions_constrained, p_hot, p_cold, x1_win, x1_lose, x2_win, x2_lose)"
   ]
  },
  {
   "cell_type": "markdown",
   "id": "ce9ecf6e",
   "metadata": {},
   "source": [
    "# Risk aversion on growth rates"
   ]
  },
  {
   "cell_type": "code",
   "execution_count": 12,
   "id": "ea5647f2",
   "metadata": {},
   "outputs": [],
   "source": [
    "p = 0.5  # Probability that the asset pays x1 for every dollar wagered\n",
    "x1 = 3  # Payoff for every dollar wagered with probability p\n",
    "x2 = .1  # Payoff for every dollar wagered with probability (1-p)\n"
   ]
  },
  {
   "cell_type": "code",
   "execution_count": 13,
   "id": "54e6eff5",
   "metadata": {},
   "outputs": [
    {
     "name": "stdout",
     "output_type": "stream",
     "text": [
      "Optimal fraction of wealth to invest in the risky asset: 0.3056\n",
      "Optimal expected logarithmic growth rate: 0.0777\n"
     ]
    }
   ],
   "source": [
    "# Solve the example\n",
    "optimal_fraction = find_optimal_fraction(p, x1, x2)\n",
    "print(f\"Optimal fraction of wealth to invest in the risky asset: {optimal_fraction:.4f}\")\n",
    "print(f\"Optimal expected logarithmic growth rate: {expected_log_growth_rate(optimal_fraction, p, x1, x2):.4f}\")"
   ]
  },
  {
   "cell_type": "code",
   "execution_count": 14,
   "id": "0fbf48cc",
   "metadata": {},
   "outputs": [
    {
     "name": "stdout",
     "output_type": "stream",
     "text": [
      "2.0\n"
     ]
    }
   ],
   "source": [
    "# K> 1 is the multiple of w that makes the person risk losing everything\n",
    "# 0 < K < 1 is the fraction of w the person protects in the losing state\n",
    "K = .5\n",
    "gamma = 1 - math.log2(K)**(-1)\n",
    "print(gamma)"
   ]
  },
  {
   "cell_type": "code",
   "execution_count": 15,
   "id": "bde8146c",
   "metadata": {},
   "outputs": [],
   "source": [
    "def expected_utility_crra(w_initial, p, x1, x2, q):\n",
    "    \"\"\"\n",
    "    Compute the expected utility of a gamble for a CRRA person with RRA coefficient q.\n",
    "\n",
    "    :param w_initial: Initial wealth\n",
    "    :param p: Probability that the asset pays x1 for every dollar wagered\n",
    "    :param x1: Payoff for every dollar wagered with probability p\n",
    "    :param x2: Payoff for every dollar wagered with probability (1-p)\n",
    "    :param q: RRA coefficient (q > 0)\n",
    "    :return: Expected utility of the gamble\n",
    "    \"\"\"\n",
    "    if q < 0:\n",
    "        raise ValueError(\"RRA coefficient q must be non-negative\")\n",
    "\n",
    "    w1 = w_initial * x1\n",
    "    w2 = w_initial * x2\n",
    "\n",
    "    if q != 1:\n",
    "        utility1 = (w1 ** (1 - q) - 1) / (1 - q)\n",
    "        utility2 = (w2 ** (1 - q) - 1) / (1 - q)\n",
    "    else:\n",
    "        utility1 = np.log(w1)\n",
    "        utility2 = np.log(w2)\n",
    "\n",
    "    expected_utility = p * utility1 + (1 - p) * utility2\n",
    "    return expected_utility"
   ]
  },
  {
   "cell_type": "code",
   "execution_count": 16,
   "id": "1303455f",
   "metadata": {},
   "outputs": [],
   "source": [
    "def find_optimal_fraction_crra(w_initial, p, x1, x2, q):\n",
    "    \"\"\"\n",
    "    Find the optimal fraction of wealth to invest in a risky asset for a CRRA person with RRA coefficient q.\n",
    "\n",
    "    :param w_initial: Initial wealth\n",
    "    :param p: Probability that the asset pays x1 for every dollar wagered\n",
    "    :param x1: Payoff for every dollar wagered with probability p\n",
    "    :param x2: Payoff for every dollar wagered with probability (1-p)\n",
    "    :param q: RRA coefficient (q > 0)\n",
    "    :return: Optimal fraction of wealth to invest in the risky asset\n",
    "    \"\"\"\n",
    "    def negative_expected_utility(fraction):\n",
    "        x1_adjusted = 1 + fraction * (x1 - 1)\n",
    "        x2_adjusted = 1 + fraction * (x2 - 1)\n",
    "        return -expected_utility_crra(w_initial, p, x1_adjusted, x2_adjusted, q)\n",
    "\n",
    "    result = minimize_scalar(negative_expected_utility, bounds=(0, 1), method='bounded')\n",
    "    optimal_fraction = result.x\n",
    "    return optimal_fraction\n"
   ]
  },
  {
   "cell_type": "code",
   "execution_count": 17,
   "id": "f0d22d43",
   "metadata": {},
   "outputs": [
    {
     "name": "stdout",
     "output_type": "stream",
     "text": [
      "Optimal fraction of wealth to invest in the risky asset: 0.1468\n",
      "Optimal expected logarithmic growth rate: 0.0579\n"
     ]
    }
   ],
   "source": [
    "# Solve the example\n",
    "K = .5\n",
    "gamma = 1 - math.log2(K)**(-1)\n",
    "optimal_fraction = find_optimal_fraction_crra(1, p, x1, x2,gamma)\n",
    "print(f\"Optimal fraction of wealth to invest in the risky asset: {optimal_fraction:.4f}\")\n",
    "print(f\"Optimal expected logarithmic growth rate: {expected_log_growth_rate(optimal_fraction, p, x1, x2):.4f}\")"
   ]
  },
  {
   "cell_type": "code",
   "execution_count": null,
   "id": "95f7837b",
   "metadata": {},
   "outputs": [],
   "source": []
  },
  {
   "cell_type": "code",
   "execution_count": null,
   "id": "1621068a",
   "metadata": {},
   "outputs": [],
   "source": []
  }
 ],
 "metadata": {
  "kernelspec": {
   "display_name": "Python 3 (ipykernel)",
   "language": "python",
   "name": "python3"
  },
  "language_info": {
   "codemirror_mode": {
    "name": "ipython",
    "version": 3
   },
   "file_extension": ".py",
   "mimetype": "text/x-python",
   "name": "python",
   "nbconvert_exporter": "python",
   "pygments_lexer": "ipython3",
   "version": "3.11.8"
  }
 },
 "nbformat": 4,
 "nbformat_minor": 5
}
