{
 "cells": [
  {
   "cell_type": "code",
   "execution_count": 1,
   "id": "a181a51b-53b8-4431-8a64-aa05987a5504",
   "metadata": {},
   "outputs": [],
   "source": [
    "import numpy as np\n",
    "from scipy.stats import norm\n",
    "import pandas as pd\n",
    "import warnings\n",
    "\n",
    "# Ignore FutureWarning\n",
    "warnings.simplefilter(action='ignore', category=FutureWarning)\n",
    "\n",
    "np.random.seed(667)"
   ]
  },
  {
   "cell_type": "code",
   "execution_count": 2,
   "id": "dc9649fa-0670-4e58-8599-4b98636a29b6",
   "metadata": {},
   "outputs": [],
   "source": [
    "# Given parameters\n",
    "N = 100000\n",
    "m = 0.50\n",
    "sigma = 75\n",
    "c = 0.14\n",
    "num_tests = 200000"
   ]
  },
  {
   "cell_type": "code",
   "execution_count": 3,
   "id": "e5e4c8f7-dc18-4edd-8275-f5fcadacf497",
   "metadata": {},
   "outputs": [
    {
     "name": "stdout",
     "output_type": "stream",
     "text": [
      "1.1978935593748872\n"
     ]
    }
   ],
   "source": [
    "# Hypotheses\n",
    "H0 = 0.0\n",
    "H1 = 0.2\n",
    "P_H0 = 0.5\n",
    "P_H1 = 1 - P_H0\n",
    "\n",
    "# Simulate true ROIs for each test based on hypothesis probabilities\n",
    "ROIs = np.random.choice([H0, H1], size=num_tests, p=[P_H0, P_H1])\n",
    "\n",
    "# Calculate standard deviation for each ROI_est\n",
    "std_devs = m * sigma * 2**0.5 / (c * N**0.5)\n",
    "\n",
    "print(std_devs)"
   ]
  },
  {
   "cell_type": "code",
   "execution_count": 4,
   "id": "f5cc4a6a",
   "metadata": {},
   "outputs": [
    {
     "name": "stdout",
     "output_type": "stream",
     "text": [
      "[ 0.59958236 -2.60876981  0.96632107 ...  1.23393386 -1.44816736\n",
      "  0.59406705]\n"
     ]
    }
   ],
   "source": [
    "# Simulate ROI_est for each test\n",
    "ROI_ests = np.random.normal(ROIs, std_devs)\n",
    "\n",
    "print(ROI_ests)"
   ]
  },
  {
   "cell_type": "code",
   "execution_count": 5,
   "id": "be4f6ee3",
   "metadata": {},
   "outputs": [
    {
     "name": "stdout",
     "output_type": "stream",
     "text": [
      "[0.30835076 0.98528945 0.2099244  ... 0.15148473 0.88665479 0.30997317]\n"
     ]
    }
   ],
   "source": [
    "# Compute t-statistics\n",
    "t_stats = (ROI_ests - H0) / std_devs\n",
    "\n",
    "# Compute p-values\n",
    "p_values = 1 - norm.cdf(t_stats)\n",
    "\n",
    "print(p_values)"
   ]
  },
  {
   "cell_type": "code",
   "execution_count": 6,
   "id": "e6dcaa19",
   "metadata": {},
   "outputs": [
    {
     "name": "stdout",
     "output_type": "stream",
     "text": [
      "0.06816705475550404\n"
     ]
    }
   ],
   "source": [
    "# Find the occurrences where ROI = 25%\n",
    "ROI_20 = ROIs == H1\n",
    "\n",
    "# Compute the conditional probability\n",
    "prob = np.sum(p_values[ROI_20] < 0.05) / np.sum(ROI_20)\n",
    "\n",
    "print(prob)"
   ]
  },
  {
   "cell_type": "markdown",
   "id": "c43b64c3",
   "metadata": {},
   "source": [
    "# Let's try increasing the number of participants in our tests"
   ]
  },
  {
   "cell_type": "code",
   "execution_count": 7,
   "id": "5d281564",
   "metadata": {},
   "outputs": [
    {
     "data": {
      "text/html": [
       "<div>\n",
       "<style scoped>\n",
       "    .dataframe tbody tr th:only-of-type {\n",
       "        vertical-align: middle;\n",
       "    }\n",
       "\n",
       "    .dataframe tbody tr th {\n",
       "        vertical-align: top;\n",
       "    }\n",
       "\n",
       "    .dataframe thead th {\n",
       "        text-align: right;\n",
       "    }\n",
       "</style>\n",
       "<table border=\"1\" class=\"dataframe\">\n",
       "  <thead>\n",
       "    <tr style=\"text-align: right;\">\n",
       "      <th></th>\n",
       "      <th>N</th>\n",
       "      <th>std_dev</th>\n",
       "      <th>prob</th>\n",
       "      <th>total_cost</th>\n",
       "    </tr>\n",
       "  </thead>\n",
       "  <tbody>\n",
       "    <tr>\n",
       "      <th>0</th>\n",
       "      <td>100000</td>\n",
       "      <td>1.197894</td>\n",
       "      <td>0.068979</td>\n",
       "      <td>14000.0</td>\n",
       "    </tr>\n",
       "    <tr>\n",
       "      <th>1</th>\n",
       "      <td>500000</td>\n",
       "      <td>0.535714</td>\n",
       "      <td>0.101879</td>\n",
       "      <td>70000.0</td>\n",
       "    </tr>\n",
       "    <tr>\n",
       "      <th>2</th>\n",
       "      <td>1000000</td>\n",
       "      <td>0.378807</td>\n",
       "      <td>0.134863</td>\n",
       "      <td>140000.0</td>\n",
       "    </tr>\n",
       "    <tr>\n",
       "      <th>3</th>\n",
       "      <td>2000000</td>\n",
       "      <td>0.267857</td>\n",
       "      <td>0.186078</td>\n",
       "      <td>280000.0</td>\n",
       "    </tr>\n",
       "    <tr>\n",
       "      <th>4</th>\n",
       "      <td>3000000</td>\n",
       "      <td>0.218704</td>\n",
       "      <td>0.232642</td>\n",
       "      <td>420000.0</td>\n",
       "    </tr>\n",
       "  </tbody>\n",
       "</table>\n",
       "</div>"
      ],
      "text/plain": [
       "         N   std_dev      prob  total_cost\n",
       "0   100000  1.197894  0.068979     14000.0\n",
       "1   500000  0.535714  0.101879     70000.0\n",
       "2  1000000  0.378807  0.134863    140000.0\n",
       "3  2000000  0.267857  0.186078    280000.0\n",
       "4  3000000  0.218704  0.232642    420000.0"
      ]
     },
     "execution_count": 7,
     "metadata": {},
     "output_type": "execute_result"
    }
   ],
   "source": [
    "# Given parameters\n",
    "m = 0.50\n",
    "sigma = 75\n",
    "c = 0.14\n",
    "num_tests = 200000\n",
    "\n",
    "# Hypotheses\n",
    "H0 = 0.0\n",
    "H1 = 0.2\n",
    "P_H0 = 0.5\n",
    "P_H1 = 1 - P_H0\n",
    "\n",
    "# N values\n",
    "N_values = [100000, 500000, 1000000, 2000000, 3000000]\n",
    "\n",
    "# Initialize data frame\n",
    "df = pd.DataFrame(columns=['N', 'std_dev', 'prob', 'total_cost'])\n",
    "\n",
    "# For each N value\n",
    "for N in N_values:\n",
    "\n",
    "    # Simulate true ROIs for each test based on hypothesis probabilities\n",
    "    ROIs = np.random.choice([H0, H1], size=num_tests, p=[P_H0, P_H1])\n",
    "\n",
    "    # Calculate standard deviation for each ROI_est\n",
    "    std_devs = m * sigma * 2**0.5 / (c * N**0.5)\n",
    "\n",
    "    # Simulate ROI_est for each test\n",
    "    ROI_ests = np.random.normal(ROIs, std_devs)\n",
    "\n",
    "    # Compute t-statistics\n",
    "    t_stats = (ROI_ests - H0) / std_devs\n",
    "\n",
    "    # Compute p-values\n",
    "    p_values = 1 - norm.cdf(t_stats)\n",
    "\n",
    "    # Find the occurrences where ROI = 20%\n",
    "    ROI_20 = ROIs == H1\n",
    "\n",
    "    # Compute the conditional probability\n",
    "    prob = np.sum(p_values[ROI_20] < 0.05) / np.sum(ROI_20)\n",
    "\n",
    "    # Compute total cost\n",
    "    total_cost = N * c\n",
    "\n",
    "    # Add row to data frame\n",
    "    temp_df = pd.DataFrame({'N': [N], 'std_dev': [std_devs], 'prob': [prob], 'total_cost': [total_cost]})\n",
    "    df = pd.concat([df, temp_df], ignore_index=True)\n",
    "\n",
    "df"
   ]
  },
  {
   "cell_type": "code",
   "execution_count": 8,
   "id": "9006e467",
   "metadata": {},
   "outputs": [],
   "source": [
    "# Now, assume that H0: ROI = -100% and H1: ROI  is uniformly distributed in the -100%, 200% \n",
    "# interval, with Prob(H0)=.5"
   ]
  },
  {
   "cell_type": "code",
   "execution_count": 9,
   "id": "0dfdfb24",
   "metadata": {},
   "outputs": [
    {
     "name": "stdout",
     "output_type": "stream",
     "text": [
      "[ 0.50952025 -0.94451875 -1.69942794 -0.27425999  0.68917242  0.0796217\n",
      " -1.41156126  0.07803269 -2.14311174 -1.59901345]\n"
     ]
    }
   ],
   "source": [
    "# Given parameters\n",
    "N = 100000\n",
    "m = 0.30\n",
    "sigma = 75\n",
    "c = 0.14\n",
    "num_tests = 200000\n",
    "\n",
    "# Hypotheses\n",
    "H0 = -1.0\n",
    "P_H0 = 0.5\n",
    "\n",
    "# Simulate true ROIs for each test based on hypothesis probabilities\n",
    "# When not H0, ROI is drawn from a uniform distribution between -100% and 200%\n",
    "ROIs = np.where(np.random.rand(num_tests) < P_H0, H0, np.random.uniform(-1, 2, num_tests))\n",
    "\n",
    "# Calculate standard deviation for each ROI_est\n",
    "std_devs = m * sigma * 2**0.5 / (c * N**0.5)\n",
    "\n",
    "# Simulate ROI_est for each test\n",
    "ROI_ests = np.random.normal(ROIs, std_devs)\n",
    "\n",
    "# Print some of the generated ROI_ests for verification\n",
    "print(ROI_ests[:10])\n"
   ]
  },
  {
   "cell_type": "code",
   "execution_count": 10,
   "id": "ebf0ccca",
   "metadata": {},
   "outputs": [
    {
     "name": "stdout",
     "output_type": "stream",
     "text": [
      "0.37840785169029445\n"
     ]
    }
   ],
   "source": [
    "# Find the occurrences where ROI_est is between 24% and 26%\n",
    "ROI_est_25 = (ROI_ests > 0.24) & (ROI_ests < 0.26)\n",
    "\n",
    "# Compute the conditional probability\n",
    "prob = np.sum(ROIs[ROI_est_25] > 0.25) / np.sum(ROI_est_25)\n",
    "\n",
    "print(prob)\n"
   ]
  },
  {
   "cell_type": "code",
   "execution_count": 14,
   "id": "5846cbf2",
   "metadata": {},
   "outputs": [
    {
     "name": "stdout",
     "output_type": "stream",
     "text": [
      "0.89568345323741\n"
     ]
    }
   ],
   "source": [
    "# When can we reasonably sure that ROI > 25% with prob ~ .9?\n",
    "\n",
    "# Find the occurrences where ROI_est is between 24% and 26%\n",
    "ROI_est_125 = (ROI_ests > 1.25) & (ROI_ests < 1.26)\n",
    "\n",
    "# Compute the conditional probability\n",
    "prob = np.sum(ROIs[ROI_est_125] > 0.25) / np.sum(ROI_est_125)\n",
    "\n",
    "print(prob)\n"
   ]
  },
  {
   "cell_type": "code",
   "execution_count": 15,
   "id": "3836e951",
   "metadata": {},
   "outputs": [],
   "source": [
    "# Go back to finding the occurrences where ROI_est is between 24% and 26% but increase the sample size\n"
   ]
  },
  {
   "cell_type": "code",
   "execution_count": 16,
   "id": "a268a938",
   "metadata": {},
   "outputs": [
    {
     "name": "stdout",
     "output_type": "stream",
     "text": [
      "For N=100000, probability: 0.43625730994152045\n",
      "For N=500000, probability: 0.5457227138643068\n",
      "For N=1000000, probability: 0.5643879173290938\n",
      "For N=2000000, probability: 0.6523031203566122\n",
      "For N=8000000, probability: 0.7229832572298326\n"
     ]
    }
   ],
   "source": [
    "# Given parameters\n",
    "m = 0.30\n",
    "sigma = 75\n",
    "c = 0.14\n",
    "num_tests = 200000\n",
    "\n",
    "# Hypotheses\n",
    "H0 = -1.0\n",
    "P_H0 = 0.5\n",
    "\n",
    "# N values\n",
    "N_values = [100000, 500000, 1000000, 2000000, 8000000]\n",
    "\n",
    "# For each N value\n",
    "for N in N_values:\n",
    "\n",
    "    # Simulate true ROIs for each test based on hypothesis probabilities\n",
    "    # When not H0, ROI is drawn from a uniform distribution between -100% and 200%\n",
    "    ROIs = np.where(np.random.rand(num_tests) < P_H0, H0, np.random.uniform(-1, 2, num_tests))\n",
    "\n",
    "    # Calculate standard deviation for each ROI_est\n",
    "    std_devs = m * sigma * 2**0.5 / (c * N**0.5)\n",
    "\n",
    "    # Simulate ROI_est for each test\n",
    "    ROI_ests = np.random.normal(ROIs, std_devs)\n",
    "\n",
    "    # Find the occurrences where ROI_est is between 24% and 26%\n",
    "    ROI_est_25 = (ROI_ests > 0.24) & (ROI_ests < 0.26)\n",
    "\n",
    "    # Compute the conditional probability\n",
    "    prob = np.sum(ROIs[ROI_est_25] > 0.20) / np.sum(ROI_est_25)\n",
    "\n",
    "    print(f\"For N={N}, probability: {prob}\")\n"
   ]
  },
  {
   "cell_type": "code",
   "execution_count": null,
   "id": "f65baef7",
   "metadata": {},
   "outputs": [],
   "source": []
  },
  {
   "cell_type": "code",
   "execution_count": null,
   "id": "21c707de-decb-42c9-b2e5-b1b4678dc747",
   "metadata": {},
   "outputs": [],
   "source": []
  }
 ],
 "metadata": {
  "kernelspec": {
   "display_name": "Python 3 (ipykernel)",
   "language": "python",
   "name": "python3"
  },
  "language_info": {
   "codemirror_mode": {
    "name": "ipython",
    "version": 3
   },
   "file_extension": ".py",
   "mimetype": "text/x-python",
   "name": "python",
   "nbconvert_exporter": "python",
   "pygments_lexer": "ipython3",
   "version": "3.12.2"
  }
 },
 "nbformat": 4,
 "nbformat_minor": 5
}
