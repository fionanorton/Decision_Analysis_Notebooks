{
 "cells": [
  {
   "cell_type": "code",
   "execution_count": 1,
   "id": "9b4c2b90",
   "metadata": {},
   "outputs": [],
   "source": [
    "import numpy as np\n",
    "import pandas as pd\n",
    "from scipy.stats import norm\n",
    "import matplotlib.pyplot as plt"
   ]
  },
  {
   "cell_type": "code",
   "execution_count": 2,
   "id": "aa6dc109",
   "metadata": {},
   "outputs": [],
   "source": [
    "np.random.seed(42)\n",
    "n_exp = 104_900_000\n",
    "n = 25_000_000"
   ]
  },
  {
   "cell_type": "code",
   "execution_count": 3,
   "id": "850d4e64",
   "metadata": {},
   "outputs": [],
   "source": [
    "# Simulate random variable theta\n",
    "theta = np.where(\n",
    "    np.random.rand(n) < 0.5, 0.5, np.random.rand(n))\n",
    "\n",
    "means = theta * n_exp\n",
    "std_errors = (n_exp * theta * (1 - theta))**0.5\n",
    "\n",
    "# Compute normally distributed random variable x with mean theta and standard deviation std_error\n",
    "X = np.random.normal(means, std_errors)\n",
    "\n",
    "# Compute the ratio between x and sigma\n",
    "z_score = (X - means )  / std_errors\n",
    "\n",
    "# Compute 1 - CDF of a standard normal evaluated at x_sigma_ratio\n",
    "p_value = 1 - norm.cdf(z_score)"
   ]
  },
  {
   "cell_type": "code",
   "execution_count": 4,
   "id": "7fff444a",
   "metadata": {},
   "outputs": [],
   "source": [
    "# Store results in a DataFrame\n",
    "data = pd.DataFrame({'theta': theta, 'X': X})"
   ]
  },
  {
   "cell_type": "code",
   "execution_count": 25,
   "id": "329e02d2",
   "metadata": {},
   "outputs": [],
   "source": [
    "# Observation\n",
    "X_obs = 52_263_470\n",
    "p_val = 1 - norm.cdf(z_score)\n",
    "\n",
    "little_interval = X_obs * .05\n",
    "\n",
    "# Count how many simulated values for x_hat are within .5% of X_obs\n",
    "count_within_range = np.sum(np.abs(X - X_obs) <= little_interval)\n",
    "\n",
    "# Count how many values for x_hat are within .5% of X_obs come from theta = 0.5\n",
    "count_theta_zero = np.sum((np.abs(X - X_obs) <= little_interval) & (theta == 0.5))\n",
    "\n",
    "# Compute the probability of theta = 0.5 given that x_hat is within .05% of X_obs\n",
    "prob_theta_zero_given_condition = count_theta_zero / count_within_range\n",
    "\n",
    "# Calculate odds of theta = 0 given that x_hat is within .05% of X_obs\n",
    "odds_theta_nonzero_given_condition = (1 - prob_theta_zero_given_condition) / prob_theta_zero_given_condition"
   ]
  },
  {
   "cell_type": "code",
   "execution_count": 26,
   "id": "f88bc213",
   "metadata": {},
   "outputs": [
    {
     "name": "stdout",
     "output_type": "stream",
     "text": [
      "2613173.5\n"
     ]
    }
   ],
   "source": [
    "print(little_interval)"
   ]
  },
  {
   "cell_type": "code",
   "execution_count": 27,
   "id": "54a49563",
   "metadata": {},
   "outputs": [
    {
     "name": "stdout",
     "output_type": "stream",
     "text": [
      "             theta             X\n",
      "0         0.500000  5.244542e+07\n",
      "1         0.163023  1.710289e+07\n",
      "2         0.111495  1.170072e+07\n",
      "3         0.400559  4.202623e+07\n",
      "4         0.500000  5.245951e+07\n",
      "...            ...           ...\n",
      "24999995  0.066307  6.953886e+06\n",
      "24999996  0.500000  5.244325e+07\n",
      "24999997  0.500000  5.244817e+07\n",
      "24999998  0.491206  5.153269e+07\n",
      "24999999  0.500000  5.246573e+07\n",
      "\n",
      "[25000000 rows x 2 columns]\n",
      "Number of trials with X close to X_obs and theta = 0.5: 12495798\n",
      "Number of trials with X close to X_obs and theta ≠ 0.5: 622430\n",
      "Probability of theta = 1/2 given x_hat are within .05% of X_obs: 0.9525522806891297\n",
      "Odds of theta nonzero given that x_hat are within .05% of X_obs: 0.049811144514339926\n"
     ]
    }
   ],
   "source": [
    "print(data)\n",
    "print(f'Number of trials with X close to X_obs and theta = 0.5: {count_theta_zero}')\n",
    "print(f'Number of trials with X close to X_obs and theta ≠ 0.5: {count_within_range - count_theta_zero}')\n",
    "\n",
    "print(f'Probability of theta = 1/2 given x_hat are within .05% of X_obs: {prob_theta_zero_given_condition}')\n",
    "print(f'Odds of theta nonzero given that x_hat are within .05% of X_obs: {odds_theta_nonzero_given_condition}')\n"
   ]
  },
  {
   "cell_type": "code",
   "execution_count": null,
   "id": "adcc30d0",
   "metadata": {},
   "outputs": [],
   "source": []
  },
  {
   "cell_type": "code",
   "execution_count": null,
   "id": "ba528b7c",
   "metadata": {},
   "outputs": [],
   "source": []
  },
  {
   "cell_type": "code",
   "execution_count": null,
   "id": "923aebf7-4cf1-4e83-9f52-ab686b0b18be",
   "metadata": {},
   "outputs": [],
   "source": []
  }
 ],
 "metadata": {
  "kernelspec": {
   "display_name": "Python 3 (ipykernel)",
   "language": "python",
   "name": "python3"
  },
  "language_info": {
   "codemirror_mode": {
    "name": "ipython",
    "version": 3
   },
   "file_extension": ".py",
   "mimetype": "text/x-python",
   "name": "python",
   "nbconvert_exporter": "python",
   "pygments_lexer": "ipython3",
   "version": "3.11.8"
  }
 },
 "nbformat": 4,
 "nbformat_minor": 5
}
