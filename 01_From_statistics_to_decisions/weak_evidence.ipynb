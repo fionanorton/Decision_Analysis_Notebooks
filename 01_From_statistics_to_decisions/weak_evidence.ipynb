{
 "cells": [
  {
   "cell_type": "code",
   "execution_count": 5,
   "id": "9b4c2b90",
   "metadata": {},
   "outputs": [],
   "source": [
    "import numpy as np\n",
    "import pandas as pd\n",
    "from scipy.stats import norm\n",
    "import matplotlib.pyplot as plt"
   ]
  },
  {
   "cell_type": "code",
   "execution_count": 6,
   "id": "aa6dc109",
   "metadata": {},
   "outputs": [],
   "source": [
    "np.random.seed(42)\n",
    "n = 100000\n",
    "std_error = 0.5"
   ]
  },
  {
   "cell_type": "code",
   "execution_count": 7,
   "id": "7fff444a",
   "metadata": {},
   "outputs": [],
   "source": [
    "# Simulate random variable theta\n",
    "theta = np.where(np.random.rand(n) < 0.5, 0, np.random.rand(n))\n",
    "\n",
    "# Compute normally distributed random variable x with mean theta and standard deviation sigma\n",
    "x_hat = np.random.normal(theta, std_error)\n",
    "\n",
    "# Compute the ratio between x and sigma\n",
    "t_stat = x_hat / std_error\n",
    "\n",
    "# Compute 1 - CDF of a standard normal evaluated at x_sigma_ratio\n",
    "p_value = 1 - norm.cdf(t_stat)\n",
    "\n",
    "# Store results in a DataFrame\n",
    "data = pd.DataFrame({'theta': theta, 'x_hat': x_hat, 't_stat': t_stat, 'p_value': p_value})"
   ]
  },
  {
   "cell_type": "code",
   "execution_count": 12,
   "id": "329e02d2",
   "metadata": {},
   "outputs": [],
   "source": [
    "# Count how many values are within 0.002 of 0.05 in p_value\n",
    "count_within_range = np.sum(np.abs(p_value - 0.05) <= 0.002)\n",
    "\n",
    "# Count how many values within 0.002 of 0.05 in p_value come from theta = 0\n",
    "count_theta_zero = np.sum((np.abs(p_value - 0.05) <= 0.002) & (theta == 0))\n",
    "\n",
    "# Compute the probability of theta = 0 given that p_value is within 0.002 of 0.05\n",
    "prob_theta_zero_given_condition = count_theta_zero / count_within_range\n",
    "\n",
    "# Calculate odds of theta = 0 given that p_value is within 0.002 of 0.05\n",
    "odds_theta_nonzero_given_condition = (1 - prob_theta_zero_given_condition) / prob_theta_zero_given_condition"
   ]
  },
  {
   "cell_type": "code",
   "execution_count": 13,
   "id": "54a49563",
   "metadata": {},
   "outputs": [
    {
     "name": "stdout",
     "output_type": "stream",
     "text": [
      "          theta     x_hat    t_stat   p_value\n",
      "0      0.000000 -0.168579 -0.337158  0.632001\n",
      "1      0.526972 -0.359961 -0.719923  0.764214\n",
      "2      0.351037  0.290426  0.580852  0.280670\n",
      "3      0.493213  0.036278  0.072556  0.471080\n",
      "4      0.000000 -0.327524 -0.655048  0.743782\n",
      "...         ...       ...       ...       ...\n",
      "99995  0.622150  0.110688  0.221376  0.412400\n",
      "99996  0.629221  0.882107  1.764214  0.038848\n",
      "99997  0.192204  0.546353  1.092706  0.137262\n",
      "99998  0.000000 -0.207522 -0.415044  0.660945\n",
      "99999  0.000000 -0.335987 -0.671975  0.749200\n",
      "\n",
      "[100000 rows x 4 columns]\n",
      "Number of values within 0.002 of 0.05 in p-value that come from theta = 0: 230\n",
      "Number of values within 0.002 of 0.05 in p-value that come from theta = nonzero: 581\n",
      "Number of values within 0.002 of 0.05 in p_value: 811\n",
      "Probability of theta = 0 given that p_value is within 0.002 of 0.05: 0.2836004932182491\n",
      "Odds of theta nonzero given that p_value is within 0.002 of 0.05: 2.526086956521739\n"
     ]
    }
   ],
   "source": [
    "print(data)\n",
    "print(f'Number of values within 0.002 of 0.05 in p-value that come from theta = 0: {count_theta_zero}')\n",
    "print(f'Number of values within 0.002 of 0.05 in p-value that come from theta = nonzero: {count_within_range - count_theta_zero}')\n",
    "print(f'Number of values within 0.002 of 0.05 in p_value: {count_within_range}')\n",
    "print(f'Probability of theta = 0 given that p_value is within 0.002 of 0.05: {prob_theta_zero_given_condition}')\n",
    "print(f'Odds of theta nonzero given that p_value is within 0.002 of 0.05: {odds_theta_nonzero_given_condition}')\n"
   ]
  },
  {
   "cell_type": "code",
   "execution_count": null,
   "id": "adcc30d0",
   "metadata": {},
   "outputs": [],
   "source": []
  },
  {
   "cell_type": "code",
   "execution_count": null,
   "id": "1560e3aa-7ead-4af6-ab4b-e99e9da43243",
   "metadata": {},
   "outputs": [],
   "source": []
  }
 ],
 "metadata": {
  "kernelspec": {
   "display_name": "Python 3 (ipykernel)",
   "language": "python",
   "name": "python3"
  },
  "language_info": {
   "codemirror_mode": {
    "name": "ipython",
    "version": 3
   },
   "file_extension": ".py",
   "mimetype": "text/x-python",
   "name": "python",
   "nbconvert_exporter": "python",
   "pygments_lexer": "ipython3",
   "version": "3.11.8"
  }
 },
 "nbformat": 4,
 "nbformat_minor": 5
}
