{
 "cells": [
  {
   "cell_type": "code",
   "execution_count": 1,
   "id": "57a65218-6a17-4d26-aec2-863ee03a807b",
   "metadata": {},
   "outputs": [],
   "source": [
    "import numpy as np\n",
    "from scipy.stats import beta, norm\n",
    "from scipy.optimize import minimize\n",
    "np.random.seed(666)"
   ]
  },
  {
   "cell_type": "code",
   "execution_count": 2,
   "id": "4afadc8a-a004-4970-8f0e-9974e30af46f",
   "metadata": {},
   "outputs": [],
   "source": [
    "# Constants\n",
    "COST = 12000\n",
    "CAPACITY = 150\n",
    "COMPENSATION_FACTOR = 2.5\n",
    "REFUND_FACTOR = 0.5\n",
    "DEMAND_INTERCEPT = 600\n",
    "DEMAND_COEFFICIENT = -5\n",
    "DEMAND_STD = 10\n",
    "NOSHOW_MEAN = 0.1\n",
    "NOSHOW_STD = 0.025\n",
    "NUM_REALIZATIONS = 1000"
   ]
  },
  {
   "cell_type": "code",
   "execution_count": 3,
   "id": "29a0d5e3-b508-4d29-a9a9-ff85e39d241b",
   "metadata": {},
   "outputs": [],
   "source": [
    "# Convert mean and standard deviation to a and b parameters for the beta distribution\n",
    "NOSHOW_A = ((1 - NOSHOW_MEAN) / NOSHOW_STD**2 - 1 / NOSHOW_MEAN) * NOSHOW_MEAN**2\n",
    "NOSHOW_B = NOSHOW_A * (1 / NOSHOW_MEAN - 1)\n",
    "\n",
    "# Random realizations\n",
    "realization_forecast_error = np.random.normal(0, DEMAND_STD, NUM_REALIZATIONS)\n",
    "realization_no_shows_fraction = beta.rvs(NOSHOW_A, NOSHOW_B, size=NUM_REALIZATIONS)"
   ]
  },
  {
   "cell_type": "code",
   "execution_count": 4,
   "id": "297ef0a6-97bd-43d5-9bb2-0184667d5bd0",
   "metadata": {},
   "outputs": [],
   "source": [
    "# Define the mean profit function\n",
    "def mean_profit(price, reservations):\n",
    "    profits = []\n",
    "    for i in range(NUM_REALIZATIONS):\n",
    "        # Calculate demand\n",
    "        demand = DEMAND_INTERCEPT + DEMAND_COEFFICIENT * price + realization_forecast_error[i]\n",
    "        # Calculate the number of tickets sold\n",
    "        sales = np.minimum(reservations, demand)\n",
    "        # Calculate the no-shows\n",
    "        no_shows = sales * realization_no_shows_fraction[i]\n",
    "        # Calculate the passengers that show up\n",
    "        passengers = sales - no_shows\n",
    "        # If we have overbooked, we need to compensate some passengers\n",
    "        if passengers > CAPACITY:\n",
    "            compensation = (passengers - CAPACITY) * price * COMPENSATION_FACTOR\n",
    "        else:\n",
    "            compensation = 0\n",
    "        # We refund no-shows\n",
    "        refund = no_shows * price * REFUND_FACTOR\n",
    "        # Calculate the total revenue from selling tickets\n",
    "        revenue = sales * price\n",
    "        # Calculate the total cost\n",
    "        cost = COST + compensation + refund\n",
    "        # Profit is revenue minus cost\n",
    "        profits.append(revenue - cost)\n",
    "    # Return the average profit across all realizations\n",
    "    return np.mean(profits)\n",
    "\n",
    "# The objective function to minimize (we add a minus sign to turn the maximization problem into a minimization problem)\n",
    "def objective(x):\n",
    "    return -mean_profit(x[0], x[1])\n",
    "\n",
    "# Initial guess\n",
    "x0 = [100, 150]\n",
    "\n",
    "# Bounds (prices and reservations can't be negative)\n",
    "bounds = [(0, None), (0, None)]\n",
    "\n",
    "# Minimize the objective function\n",
    "res = minimize(objective, x0, bounds=bounds)"
   ]
  },
  {
   "cell_type": "code",
   "execution_count": 5,
   "id": "a465629a",
   "metadata": {},
   "outputs": [
    {
     "name": "stdout",
     "output_type": "stream",
     "text": [
      "Optimal price: $87\n",
      "Optimal number of reservations: 165\n"
     ]
    }
   ],
   "source": [
    "print(f\"Optimal price: ${round(res.x[0])}\")\n",
    "print(f\"Optimal number of reservations: {round(res.x[1])}\")"
   ]
  },
  {
   "cell_type": "code",
   "execution_count": 6,
   "id": "369dacb4",
   "metadata": {},
   "outputs": [],
   "source": [
    "# Define the profit function with fixed reservations\n",
    "def profit_fixed_reservations(price):\n",
    "    # reservations are fixed at capacity\n",
    "    reservations = CAPACITY\n",
    "    return mean_profit(price, reservations)\n",
    "\n",
    "# The objective function to minimize with fixed reservations\n",
    "def objective_fixed_reservations(x):\n",
    "    return -profit_fixed_reservations(x)\n",
    "\n",
    "# Minimize the objective function with fixed reservations\n",
    "res_fixed_reservations = minimize(objective_fixed_reservations, x0[0])"
   ]
  },
  {
   "cell_type": "code",
   "execution_count": 7,
   "id": "89a12782",
   "metadata": {},
   "outputs": [
    {
     "name": "stdout",
     "output_type": "stream",
     "text": [
      "Optimal price with fixed reservations: $89\n"
     ]
    }
   ],
   "source": [
    "print(f\"Optimal price with fixed reservations: ${round(res_fixed_reservations.x[0])}\")"
   ]
  },
  {
   "cell_type": "code",
   "execution_count": 9,
   "id": "a1a2c69a",
   "metadata": {},
   "outputs": [
    {
     "data": {
      "text/plain": [
       "1175"
      ]
     },
     "execution_count": 9,
     "metadata": {},
     "output_type": "execute_result"
    }
   ],
   "source": [
    "round(mean_profit(87, 166))"
   ]
  },
  {
   "cell_type": "code",
   "execution_count": 10,
   "id": "6760d1e1",
   "metadata": {},
   "outputs": [
    {
     "data": {
      "text/plain": [
       "374.9016698367462"
      ]
     },
     "execution_count": 10,
     "metadata": {},
     "output_type": "execute_result"
    }
   ],
   "source": [
    "mean_profit(87, 150)"
   ]
  },
  {
   "cell_type": "code",
   "execution_count": 11,
   "id": "03cb4601",
   "metadata": {},
   "outputs": [
    {
     "data": {
      "text/plain": [
       "515.5594069239061"
      ]
     },
     "execution_count": 11,
     "metadata": {},
     "output_type": "execute_result"
    }
   ],
   "source": [
    "mean_profit(89, 150)"
   ]
  },
  {
   "cell_type": "code",
   "execution_count": null,
   "id": "a122eb45",
   "metadata": {},
   "outputs": [],
   "source": []
  }
 ],
 "metadata": {
  "kernelspec": {
   "display_name": "Python 3 (ipykernel)",
   "language": "python",
   "name": "python3"
  },
  "language_info": {
   "codemirror_mode": {
    "name": "ipython",
    "version": 3
   },
   "file_extension": ".py",
   "mimetype": "text/x-python",
   "name": "python",
   "nbconvert_exporter": "python",
   "pygments_lexer": "ipython3",
   "version": "3.12.2"
  }
 },
 "nbformat": 4,
 "nbformat_minor": 5
}
