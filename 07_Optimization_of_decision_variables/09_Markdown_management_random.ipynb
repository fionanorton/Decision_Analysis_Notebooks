{
 "cells": [
  {
   "cell_type": "code",
   "execution_count": 1,
   "id": "d06de1a5-b1a0-4984-9a51-ff5657525945",
   "metadata": {},
   "outputs": [],
   "source": [
    "import numpy as np\n",
    "from scipy.optimize import minimize\n",
    "np.random.seed(666)"
   ]
  },
  {
   "cell_type": "code",
   "execution_count": 2,
   "id": "b380a0a7-fdbf-4712-9f18-a05ba2116127",
   "metadata": {},
   "outputs": [
    {
     "name": "stdout",
     "output_type": "stream",
     "text": [
      "The optimal price is: 42.44\n",
      "The maximum expected revenue is: 2902.92\n"
     ]
    }
   ],
   "source": [
    "# Initial inventory\n",
    "x = 160 \n",
    "\n",
    "# Sale price after the fourth month\n",
    "r = 5 \n",
    "\n",
    "# Number of samples for Monte Carlo simulation\n",
    "N = 10000\n",
    "\n",
    "# Generate ε samples\n",
    "epsilons = np.random.normal(0, 10, N)\n",
    "\n",
    "# Demand function\n",
    "def d(p, epsilon):\n",
    "    return np.maximum(120 - 1.5 * p + epsilon, 0)\n",
    "\n",
    "def total_revenue(p):\n",
    "    demands = d(p, epsilons)\n",
    "\n",
    "    # Calculate the sold quantity\n",
    "    q = np.minimum(demands, x)\n",
    "\n",
    "    # Unsold items are sold at r\n",
    "    unsold = x - q\n",
    "\n",
    "    # Total revenue\n",
    "    revenues = p*q + r*unsold\n",
    "\n",
    "    # We will minimize the negative expected revenue\n",
    "    return -np.mean(revenues)\n",
    "\n",
    "# Perform the optimization\n",
    "res = minimize(total_revenue, 30, bounds=[(0, 120/1.5)])\n",
    "\n",
    "print('The optimal price is:', round(res.x[0], 2))\n",
    "print('The maximum expected revenue is:', round(-res.fun, 2))"
   ]
  },
  {
   "cell_type": "markdown",
   "id": "fda13f21",
   "metadata": {},
   "source": [
    "# Probabilistic markdown heuristic"
   ]
  },
  {
   "cell_type": "code",
   "execution_count": 3,
   "id": "3d727f70",
   "metadata": {},
   "outputs": [
    {
     "name": "stdout",
     "output_type": "stream",
     "text": [
      "The optimal price is: 35.32\n",
      "The maximum expected revenue is: 4766.77\n"
     ]
    }
   ],
   "source": [
    "# Initial inventory\n",
    "x = 160 \n",
    "\n",
    "# Sale price after the fourth month\n",
    "r = 5 \n",
    "\n",
    "# Number of samples for Monte Carlo simulation\n",
    "N = 10000\n",
    "\n",
    "# Generate ε samples for each month\n",
    "epsilons_1 = np.random.normal(0, 10, N)\n",
    "epsilons_2 = np.random.normal(0, 10, N)\n",
    "epsilons_3 = np.random.normal(0, 10, N)\n",
    "epsilons_4 = np.random.normal(0, 10, N)\n",
    "\n",
    "# Demand functions for each month\n",
    "def d1(p, epsilon):\n",
    "    return np.maximum(120 - 1.5 * p + epsilon, 0)\n",
    "\n",
    "def d2(p, epsilon):\n",
    "    return np.maximum(90 - 1.5 * p + epsilon, 0)\n",
    "\n",
    "def d3(p, epsilon):\n",
    "    return np.maximum(80 - 1.5 * p + epsilon, 0)\n",
    "\n",
    "def d4(p, epsilon):\n",
    "    return np.maximum(50 - 2 * p + epsilon, 0)\n",
    "\n",
    "def total_revenue(p):\n",
    "    # Total demand\n",
    "    D = d1(p, epsilons_1) + d2(p, epsilons_2) + d3(p, epsilons_3) + d4(p, epsilons_4)\n",
    "\n",
    "    # Calculate the sold quantity\n",
    "    q = np.minimum(D, x)\n",
    "\n",
    "    # Unsold items are sold at r\n",
    "    unsold = x - q\n",
    "\n",
    "    # Total revenue\n",
    "    revenues = p*q + r*unsold\n",
    "\n",
    "    # We will minimize the negative expected revenue\n",
    "    return -np.mean(revenues)\n",
    "\n",
    "# Perform the optimization\n",
    "res = minimize(total_revenue, 30, bounds=[(0, 120/1.5)])\n",
    "\n",
    "print('The optimal price is:', round(res.x[0], 2))\n",
    "print('The maximum expected revenue is:', round(-res.fun, 2))\n"
   ]
  },
  {
   "cell_type": "code",
   "execution_count": 4,
   "id": "cfabd3c2",
   "metadata": {},
   "outputs": [
    {
     "name": "stdout",
     "output_type": "stream",
     "text": [
      "Say you ended up selling  70 units.\n"
     ]
    }
   ],
   "source": [
    "p_optimal = res.x[0]\n",
    "q1_realized = 70\n",
    "print('Say you ended up selling ', q1_realized, 'units.')\n",
    "\n",
    "# Let's reoptimize\n",
    "\n"
   ]
  },
  {
   "cell_type": "code",
   "execution_count": 5,
   "id": "b25d40c8",
   "metadata": {},
   "outputs": [
    {
     "name": "stdout",
     "output_type": "stream",
     "text": [
      "The optimal price for the remaining periods is: 32.04\n",
      "The maximum expected revenue for the remaining periods is: 2436.57\n",
      "The total expected revenue, including the first period, is: 4908.83\n"
     ]
    }
   ],
   "source": [
    "# The price and units sold in the first period\n",
    "p1 = res.x[0]\n",
    "q1 = 70\n",
    "\n",
    "# New inventory after selling 70 units\n",
    "x2 = x - q1\n",
    "\n",
    "# Revenue from the first period\n",
    "revenue1 = p1 * q1\n",
    "\n",
    "# Total demand for the remaining periods\n",
    "def D(p, epsilons_2, epsilons_3, epsilons_4):\n",
    "    return d2(p, epsilons_2) + d3(p, epsilons_3) + d4(p, epsilons_4)\n",
    "\n",
    "def total_revenue(p):\n",
    "    # Total demand\n",
    "    D_total = D(p, epsilons_2, epsilons_3, epsilons_4)\n",
    "\n",
    "    # Calculate the sold quantity\n",
    "    q = np.minimum(D_total, x2)\n",
    "\n",
    "    # Unsold items are sold at r\n",
    "    unsold = x2 - q\n",
    "\n",
    "    # Total revenue\n",
    "    revenues = p*q + r*unsold\n",
    "\n",
    "    # We will minimize the negative expected revenue\n",
    "    return -np.mean(revenues)\n",
    "\n",
    "# Perform the optimization\n",
    "res = minimize(total_revenue, 30, bounds=[(0, 90/1.5)])\n",
    "\n",
    "print('The optimal price for the remaining periods is:', round(res.x[0], 2))\n",
    "print('The maximum expected revenue for the remaining periods is:', round(-res.fun, 2))\n",
    "print('The total expected revenue, including the first period, is:', round(revenue1 - res.fun, 2))\n"
   ]
  },
  {
   "cell_type": "code",
   "execution_count": null,
   "id": "1d2db727",
   "metadata": {},
   "outputs": [],
   "source": []
  },
  {
   "cell_type": "code",
   "execution_count": null,
   "id": "ea8e589d-f7d9-4a3d-9ffc-4244a99a33f0",
   "metadata": {},
   "outputs": [],
   "source": []
  }
 ],
 "metadata": {
  "kernelspec": {
   "display_name": "Python 3 (ipykernel)",
   "language": "python",
   "name": "python3"
  },
  "language_info": {
   "codemirror_mode": {
    "name": "ipython",
    "version": 3
   },
   "file_extension": ".py",
   "mimetype": "text/x-python",
   "name": "python",
   "nbconvert_exporter": "python",
   "pygments_lexer": "ipython3",
   "version": "3.12.2"
  }
 },
 "nbformat": 4,
 "nbformat_minor": 5
}
