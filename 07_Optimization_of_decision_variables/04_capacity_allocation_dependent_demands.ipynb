{
 "cells": [
  {
   "cell_type": "code",
   "execution_count": 1,
   "id": "95c2c626-bc57-4385-b98f-5c8bfa2e8fda",
   "metadata": {},
   "outputs": [],
   "source": [
    "import numpy as np\n",
    "from scipy.optimize import minimize_scalar\n",
    "np.random.seed(666)"
   ]
  },
  {
   "cell_type": "code",
   "execution_count": 2,
   "id": "62d214f0-369a-4599-bdc0-8adbaff46257",
   "metadata": {},
   "outputs": [
    {
     "name": "stdout",
     "output_type": "stream",
     "text": [
      "The optimal protection level to maximize expected revenue is: 75.27392784088853\n"
     ]
    }
   ],
   "source": [
    "# Parameters\n",
    "full_fare_price = 150\n",
    "discount_price = 100\n",
    "\n",
    "plane_capacity = 100\n",
    "\n",
    "num_simulations = 200000  \n",
    "\n",
    "# Distributions parameters\n",
    "full_fare_mean = 56\n",
    "full_fare_std = 23\n",
    "discount_fare_mean = 88\n",
    "discount_fare_std = 44\n",
    "alpha = 0.3\n",
    "\n",
    "def simulate_demand(mean, std, num_simulations):\n",
    "    \"\"\"Simulates demand with given mean and standard deviation, making sure it's non-negative\"\"\"\n",
    "    demand = np.random.normal(mean, std, num_simulations)\n",
    "    return np.where(demand < 0, 0, demand)  # setting negative values to 0\n",
    "\n",
    "# Simulate demands outside the function to ensure the same set of demand realizations\n",
    "full_fare_demand = simulate_demand(full_fare_mean, full_fare_std, num_simulations)\n",
    "discount_demand = simulate_demand(discount_fare_mean, discount_fare_std, num_simulations)\n",
    "\n",
    "def expected_revenue(protection_level):\n",
    "    # Compute sales\n",
    "    discounted_sales = np.minimum(plane_capacity - protection_level, discount_demand)\n",
    "    unmet_discounted_demand = (discount_demand - discounted_sales ) * alpha\n",
    "    full_fare_sales = np.minimum(plane_capacity - discounted_sales, full_fare_demand + unmet_discounted_demand)\n",
    "    \n",
    "    # Compute total revenue\n",
    "    revenue = full_fare_price * full_fare_sales + discount_price * discounted_sales\n",
    "    \n",
    "    # Return the negative of the average revenue (since we want to maximize revenue, but scipy provides minimize functions)\n",
    "    return -np.mean(revenue)\n",
    "\n",
    "# Find the protection level that maximizes expected revenue\n",
    "result = minimize_scalar(expected_revenue, bounds=(0, plane_capacity), method='bounded')\n",
    "\n",
    "print(f\"The optimal protection level to maximize expected revenue is: {result.x}\")"
   ]
  },
  {
   "cell_type": "code",
   "execution_count": null,
   "id": "bfa22cb8",
   "metadata": {},
   "outputs": [],
   "source": []
  },
  {
   "cell_type": "code",
   "execution_count": null,
   "id": "73f1ee3e-4392-4e9e-82b5-8b8a5cdd2eef",
   "metadata": {},
   "outputs": [],
   "source": []
  }
 ],
 "metadata": {
  "kernelspec": {
   "display_name": "Python 3 (ipykernel)",
   "language": "python",
   "name": "python3"
  },
  "language_info": {
   "codemirror_mode": {
    "name": "ipython",
    "version": 3
   },
   "file_extension": ".py",
   "mimetype": "text/x-python",
   "name": "python",
   "nbconvert_exporter": "python",
   "pygments_lexer": "ipython3",
   "version": "3.12.2"
  }
 },
 "nbformat": 4,
 "nbformat_minor": 5
}
