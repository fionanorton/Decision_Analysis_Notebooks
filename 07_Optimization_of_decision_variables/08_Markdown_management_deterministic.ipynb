{
 "cells": [
  {
   "cell_type": "code",
   "execution_count": 1,
   "id": "a3eba18b",
   "metadata": {},
   "outputs": [],
   "source": [
    "import numpy as np\n",
    "from scipy.optimize import minimize_scalar, minimize\n"
   ]
  },
  {
   "cell_type": "code",
   "execution_count": 2,
   "id": "1d4b2a87",
   "metadata": {},
   "outputs": [],
   "source": [
    "# Initial inventory\n",
    "x_1 = 160 \n",
    "\n",
    "# Sale price after the fourth month\n",
    "r = 5 \n",
    "\n",
    "# Demand functions\n",
    "def d_1(p):\n",
    "    return max(120 - 1.5 * p, 0)\n",
    "\n",
    "def d_2(p):\n",
    "    return max(90 - 1.5 * p, 0)\n",
    "\n",
    "def d_3(p):\n",
    "    return max(80 - 1.5 * p, 0)\n",
    "\n",
    "def d_4(p):\n",
    "    return max(50 - 2 * p, 0)"
   ]
  },
  {
   "cell_type": "code",
   "execution_count": 3,
   "id": "8cd36c29",
   "metadata": {},
   "outputs": [],
   "source": [
    "def total_revenue(p):\n",
    "    # Calculate the demand for each month\n",
    "    d1 = d_1(p)\n",
    "    d2 = d_2(p)\n",
    "    d3 = d_3(p)\n",
    "    d4 = d_4(p)\n",
    "\n",
    "    # Calculate the sold quantity each month\n",
    "    q1 = min(d1, x_1)\n",
    "    x_2 = x_1 - q1\n",
    "    q2 = min(d2, x_2)\n",
    "    x_3 = x_2 - q2\n",
    "    q3 = min(d3, x_3)\n",
    "    x_4 = x_3 - q3\n",
    "    q4 = min(d4, x_4)\n",
    "\n",
    "    # Unsold items are sold at r\n",
    "    q5 = x_1 - q1 - q2 - q3 - q4\n",
    "\n",
    "    # Total revenue\n",
    "    revenue = q1*p + q2*p + q3*p + q4*p + q5*r\n",
    "\n",
    "    # We will minimize the negative revenue\n",
    "    return -revenue\n"
   ]
  },
  {
   "cell_type": "code",
   "execution_count": 4,
   "id": "83e4378d",
   "metadata": {},
   "outputs": [
    {
     "name": "stdout",
     "output_type": "stream",
     "text": [
      "The optimal price is: 34.72\n",
      "The maximum revenue is: 4775\n"
     ]
    }
   ],
   "source": [
    "res = minimize_scalar(total_revenue, bounds=(0, 120/1.5), method='bounded')\n",
    "\n",
    "print('The optimal price is:', np.round(res.x, 2))\n",
    "print('The maximum revenue is:', round(-res.fun))\n"
   ]
  },
  {
   "cell_type": "code",
   "execution_count": 5,
   "id": "1b6a5e15",
   "metadata": {},
   "outputs": [
    {
     "name": "stdout",
     "output_type": "stream",
     "text": [
      "The optimal prices are: [42.5  32.5  29.17 15.  ]\n",
      "The maximum revenue is: 5120\n"
     ]
    }
   ],
   "source": [
    "def total_revenues(prices):\n",
    "    p1, p2, p3, p4 = prices\n",
    "    # Calculate the demand for each month\n",
    "    d1 = d_1(p1)\n",
    "    d2 = d_2(p2)\n",
    "    d3 = d_3(p3)\n",
    "    d4 = d_4(p4)\n",
    "\n",
    "    # Calculate the sold quantity each month\n",
    "    q1 = min(d1, x_1)\n",
    "    x_2 = x_1 - q1\n",
    "    q2 = min(d2, x_2)\n",
    "    x_3 = x_2 - q2\n",
    "    q3 = min(d3, x_3)\n",
    "    x_4 = x_3 - q3\n",
    "    q4 = min(d4, x_4)\n",
    "\n",
    "    # Unsold items are sold at r\n",
    "    q5 = x_1 - q1 - q2 - q3 - q4\n",
    "\n",
    "    # Total revenue\n",
    "    revenue = q1*p1 + q2*p2 + q3*p3 + q4*p4 + q5*r\n",
    "\n",
    "    # We will minimize the negative revenue\n",
    "    return -revenue\n",
    "\n",
    "# Initial guess\n",
    "p0 = [20, 20, 20, 20]\n",
    "\n",
    "# Perform the optimization\n",
    "res2 = minimize(total_revenues, p0, bounds=[(0, 120/1.5)]*4)\n",
    "\n",
    "print('The optimal prices are:', np.round(res2.x, 2))\n",
    "print('The maximum revenue is:', round(-res2.fun))\n",
    "\n"
   ]
  },
  {
   "cell_type": "code",
   "execution_count": 6,
   "id": "7efcc4f1",
   "metadata": {},
   "outputs": [
    {
     "name": "stdout",
     "output_type": "stream",
     "text": [
      "Percent improvement to revenues:  7.21 percent.\n"
     ]
    }
   ],
   "source": [
    "print('Percent improvement to revenues: ', np.round((res2.fun / res.fun - 1) * 100, 2), 'percent.' )"
   ]
  },
  {
   "cell_type": "code",
   "execution_count": 7,
   "id": "79ba826f",
   "metadata": {},
   "outputs": [
    {
     "name": "stdout",
     "output_type": "stream",
     "text": [
      "Optimal price for the first month from the previous steps:  42.5\n",
      "At that price, you estimated to sell  56 units.\n",
      "Say you ended up selling  70 units.\n"
     ]
    }
   ],
   "source": [
    "# Optimal price for the first month from the previous steps\n",
    "p1_optimal = res2.x[0] \n",
    "\n",
    "print('Optimal price for the first month from the previous steps: ', np.round(p1_optimal,2))\n",
    "print('At that price, you estimated to sell ', round(min(d_1(p1_optimal), x_1)), 'units.')\n",
    "\n",
    "q1_realized = 70\n",
    "print('Say you ended up selling ', q1_realized, 'units.')\n",
    "\n",
    "# Let's reoptimize\n"
   ]
  },
  {
   "cell_type": "code",
   "execution_count": 8,
   "id": "77da390b",
   "metadata": {},
   "outputs": [
    {
     "name": "stdout",
     "output_type": "stream",
     "text": [
      "The optimal prices are: [34.   30.67 16.5 ]\n",
      "The maximum revenue is: 5624\n"
     ]
    }
   ],
   "source": [
    "# Revenue from the first month\n",
    "revenue_month_1 = q1_realized * p1_optimal\n",
    "\n",
    "# Inventory update\n",
    "x_2 = x_1 - q1_realized\n",
    "\n",
    "def total_revenues_updated(prices):\n",
    "    p2, p3, p4 = prices\n",
    "    # Calculate the demand for each month\n",
    "    d2 = d_2(p2)\n",
    "    d3 = d_3(p3)\n",
    "    d4 = d_4(p4)\n",
    "\n",
    "    # Calculate the sold quantity each month\n",
    "    q2 = min(d2, x_2)\n",
    "    x_3 = x_2 - q2\n",
    "    q3 = min(d3, x_3)\n",
    "    x_4 = x_3 - q3\n",
    "    q4 = min(d4, x_4)\n",
    "\n",
    "    # Unsold items are sold at r\n",
    "    q5 = x_2 - q2 - q3 - q4\n",
    "\n",
    "    # Total period 2 and onwards revenue\n",
    "    revenue = q2*p2 + q3*p3 + q4*p4 + q5*r\n",
    "\n",
    "    # We will minimize the negative revenue\n",
    "    return -revenue\n",
    "\n",
    "# Initial guess\n",
    "p0 = [30, 30, 10]\n",
    "\n",
    "# Perform the optimization\n",
    "res = minimize(total_revenues_updated, p0, bounds=[(0, 90/1.5), (0, 80/1.5), (0, 50/2)])\n",
    "\n",
    "# Compute total maximum revenue\n",
    "total_max_revenue = revenue_month_1 - res.fun\n",
    "\n",
    "print('The optimal prices are:', np.round(res.x, 2))\n",
    "print('The maximum revenue is:', round(total_max_revenue))"
   ]
  },
  {
   "cell_type": "code",
   "execution_count": null,
   "id": "b7246a32",
   "metadata": {},
   "outputs": [],
   "source": []
  }
 ],
 "metadata": {
  "kernelspec": {
   "display_name": "Python 3 (ipykernel)",
   "language": "python",
   "name": "python3"
  },
  "language_info": {
   "codemirror_mode": {
    "name": "ipython",
    "version": 3
   },
   "file_extension": ".py",
   "mimetype": "text/x-python",
   "name": "python",
   "nbconvert_exporter": "python",
   "pygments_lexer": "ipython3",
   "version": "3.12.2"
  }
 },
 "nbformat": 4,
 "nbformat_minor": 5
}
