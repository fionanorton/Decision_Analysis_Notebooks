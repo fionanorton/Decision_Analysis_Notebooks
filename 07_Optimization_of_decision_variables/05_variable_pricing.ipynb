{
 "cells": [
  {
   "cell_type": "code",
   "execution_count": 1,
   "id": "a749d077-627b-405f-ba31-1760d749d9b6",
   "metadata": {},
   "outputs": [],
   "source": [
    "# Use the pyomo_env.yml to create a Conda environment for running this Notebook\n",
    "from pyomo.environ import *"
   ]
  },
  {
   "cell_type": "code",
   "execution_count": 2,
   "id": "417e5976-9e01-4dc5-a9ba-a37b0c890510",
   "metadata": {},
   "outputs": [
    {
     "name": "stdout",
     "output_type": "stream",
     "text": [
      "Optimized p: 25\n",
      "Optimized x values: [1000, 226, 380, 440, 659, 1000, 1000]\n",
      "Maximal value of the objective: 119919\n"
     ]
    }
   ],
   "source": [
    "# Parameters\n",
    "C = 1000\n",
    "D = [3100, 1500, 1400, 1510, 2000, 2500, 3300]\n",
    "m = [-62, -50, -40, -42, -52.6, -55.6, -60]\n",
    "\n",
    "# Create a simple model\n",
    "model = ConcreteModel()\n",
    "\n",
    "# Decision variables\n",
    "model.p = Var(domain=NonNegativeReals)\n",
    "model.x = Var(range(7), domain=NonNegativeReals)\n",
    "\n",
    "# Objective function\n",
    "model.obj = Objective(expr=model.p * sum(model.x[i] for i in range(7)), sense=maximize)\n",
    "\n",
    "# Constraints\n",
    "model.constraints = ConstraintList()\n",
    "for i in range(7):\n",
    "    model.constraints.add(expr=model.x[i] <= C)\n",
    "    model.constraints.add(expr=model.x[i] <= D[i] + m[i] * model.p)\n",
    "\n",
    "# Solve\n",
    "SolverFactory('ipopt').solve(model)\n",
    "\n",
    "# Print results\n",
    "print(\"Optimized p:\", round(model.p()))\n",
    "print(\"Optimized x values:\", [round(model.x[i]()) for i in range(7)])\n",
    "print(\"Maximal value of the objective:\", round(model.obj()))"
   ]
  },
  {
   "cell_type": "code",
   "execution_count": 3,
   "id": "949461a1",
   "metadata": {},
   "outputs": [
    {
     "name": "stdout",
     "output_type": "stream",
     "text": [
      "Day 1:\n",
      "Optimized p: 34\n",
      "Optimized x value: 1000\n",
      "Day 2:\n",
      "Optimized p: 15\n",
      "Optimized x value: 750\n",
      "Day 3:\n",
      "Optimized p: 18\n",
      "Optimized x value: 700\n",
      "Day 4:\n",
      "Optimized p: 18\n",
      "Optimized x value: 755\n",
      "Day 5:\n",
      "Optimized p: 19\n",
      "Optimized x value: 1000\n",
      "Day 6:\n",
      "Optimized p: 27\n",
      "Optimized x value: 1000\n",
      "Day 7:\n",
      "Optimized p: 38\n",
      "Optimized x value: 1000\n",
      "Maximal value of the objective: 155266\n"
     ]
    }
   ],
   "source": [
    "# Create a new model for different prices for each day\n",
    "model2 = ConcreteModel()\n",
    "\n",
    "# Decision variables\n",
    "model2.p = Var(range(7), domain=NonNegativeReals)\n",
    "model2.x = Var(range(7), domain=NonNegativeReals)\n",
    "\n",
    "# Objective function\n",
    "model2.obj = Objective(expr=sum(model2.p[i] * model2.x[i] for i in range(7)), sense=maximize)\n",
    "\n",
    "# Constraints\n",
    "model2.constraints = ConstraintList()\n",
    "for i in range(7):\n",
    "    model2.constraints.add(expr=model2.x[i] <= C)\n",
    "    model2.constraints.add(expr=model2.x[i] <= D[i] + m[i] * model2.p[i])\n",
    "\n",
    "# Solve\n",
    "SolverFactory('ipopt').solve(model2)\n",
    "\n",
    "# Print results\n",
    "for i in range(7):\n",
    "    print(f\"Day {i+1}:\")\n",
    "    print(\"Optimized p:\", round(model2.p[i]()))\n",
    "    print(\"Optimized x value:\", round(model2.x[i]()))\n",
    "print(\"Maximal value of the objective:\", round(model2.obj()))\n"
   ]
  },
  {
   "cell_type": "code",
   "execution_count": 24,
   "id": "dcb1127e",
   "metadata": {},
   "outputs": [
    {
     "name": "stdout",
     "output_type": "stream",
     "text": [
      "Day 1:\n",
      "Optimized p: 29\n",
      "Optimized x value: 1000\n",
      "Day 2:\n",
      "Optimized p: 18\n",
      "Optimized x value: 889\n",
      "Day 3:\n",
      "Optimized p: 19\n",
      "Optimized x value: 839\n",
      "Day 4:\n",
      "Optimized p: 20\n",
      "Optimized x value: 894\n",
      "Day 5:\n",
      "Optimized p: 21\n",
      "Optimized x value: 1000\n",
      "Day 6:\n",
      "Optimized p: 25\n",
      "Optimized x value: 1000\n",
      "Day 7:\n",
      "Optimized p: 31\n",
      "Optimized x value: 1000\n",
      "Maximal value of the objective: 156485\n"
     ]
    }
   ],
   "source": [
    "# Create a new model for different prices for each day with updated demand function\n",
    "model3 = ConcreteModel()\n",
    "\n",
    "# Decision variables\n",
    "model3.p = Var(range(7), domain=NonNegativeReals)\n",
    "model3.x = Var(range(7), domain=NonNegativeReals)\n",
    "\n",
    "# Objective function\n",
    "model3.obj = Objective(expr=sum(model3.p[i] * model3.x[i] for i in range(7)), sense=maximize)\n",
    "\n",
    "# Constraints\n",
    "model3.constraints = ConstraintList()\n",
    "for i in range(7):\n",
    "    model3.constraints.add(expr=model3.x[i] <= C)\n",
    "    # Update the second constraint with the new demand function\n",
    "    model3.constraints.add(expr=model3.x[i] <= D[i] + m[i] * model3.p[i] + sum(8 * (model3.p[j] - model3.p[i]) for j in range(7)))\n",
    "\n",
    "# Solve\n",
    "SolverFactory('ipopt').solve(model3)\n",
    "\n",
    "# Print results\n",
    "for i in range(7):\n",
    "    print(f\"Day {i+1}:\")\n",
    "    print(\"Optimized p:\", round(model3.p[i]()))\n",
    "    print(\"Optimized x value:\", round(model3.x[i]()))\n",
    "print(\"Maximal value of the objective:\", round(model3.obj()))\n"
   ]
  },
  {
   "cell_type": "code",
   "execution_count": null,
   "id": "9878c008",
   "metadata": {},
   "outputs": [],
   "source": []
  }
 ],
 "metadata": {
  "kernelspec": {
   "display_name": "Python 3 (ipykernel)",
   "language": "python",
   "name": "python3"
  },
  "language_info": {
   "codemirror_mode": {
    "name": "ipython",
    "version": 3
   },
   "file_extension": ".py",
   "mimetype": "text/x-python",
   "name": "python",
   "nbconvert_exporter": "python",
   "pygments_lexer": "ipython3",
   "version": "3.12.2"
  }
 },
 "nbformat": 4,
 "nbformat_minor": 5
}
